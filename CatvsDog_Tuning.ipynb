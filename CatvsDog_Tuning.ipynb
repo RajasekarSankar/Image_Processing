{
  "nbformat": 4,
  "nbformat_minor": 0,
  "metadata": {
    "colab": {
      "provenance": []
    },
    "kernelspec": {
      "name": "python3",
      "display_name": "Python 3"
    },
    "language_info": {
      "name": "python"
    }
  },
  "cells": [
    {
      "cell_type": "code",
      "execution_count": null,
      "metadata": {
        "id": "tcosAElazteD"
      },
      "outputs": [],
      "source": [
        "import pickle"
      ]
    },
    {
      "cell_type": "code",
      "source": [
        "X = pickle.load(open('X.pkl', 'rb'))\n",
        "y = pickle.load(open('y.pkl', 'rb'))"
      ],
      "metadata": {
        "id": "41m0vcb00BWC"
      },
      "execution_count": null,
      "outputs": []
    },
    {
      "cell_type": "code",
      "source": [
        "X = X/255"
      ],
      "metadata": {
        "id": "2eTfqB4h0Bal"
      },
      "execution_count": null,
      "outputs": []
    },
    {
      "cell_type": "code",
      "source": [
        "X = X.reshape(-1, 60, 60, 1)"
      ],
      "metadata": {
        "id": "YKrU5UtB0BdW"
      },
      "execution_count": null,
      "outputs": []
    },
    {
      "cell_type": "code",
      "source": [
        "from keras.models import Sequential\n",
        "from keras.layers import Conv2D, MaxPooling2D, Dense, Flatten"
      ],
      "metadata": {
        "id": "L2yOO1eR0Bon"
      },
      "execution_count": null,
      "outputs": []
    },
    {
      "cell_type": "code",
      "source": [
        "from keras.callbacks import TensorBoard\n",
        "import time"
      ],
      "metadata": {
        "id": "eyxKpkZL0UWb"
      },
      "execution_count": null,
      "outputs": []
    },
    {
      "cell_type": "code",
      "source": [
        "dense_layers = [3]\n",
        "conv_layers = [3]\n",
        "neurons = [64]"
      ],
      "metadata": {
        "id": "a3AHDSTo0UY6"
      },
      "execution_count": null,
      "outputs": []
    },
    {
      "cell_type": "code",
      "source": [
        "for dense_layer in dense_layers:\n",
        "\tfor conv_layer in conv_layers:\n",
        "\t\tfor neuron in neurons:\n",
        "\n",
        "\t\t\tNAME = '{}-denselayer-{}-convlayer-{}-neuron-{}'.format(dense_layer, conv_layer, neuron, int(time.time()))\n",
        "\t\t\ttensorboard = TensorBoard(log_dir = 'logs2\\\\{}'.format(NAME))\n",
        "\n",
        "\n",
        "\t\t\tmodel = Sequential()\n",
        "\n",
        "\t\t\tfor l in range(conv_layer):\n",
        "\t\t\t\tmodel.add(Conv2D(neuron, (3,3), activation = 'relu'))\n",
        "\t\t\t\tmodel.add(MaxPooling2D((2,2)))\n",
        "\n",
        "\t\t\tmodel.add(Flatten())\n",
        "\n",
        "\t\t\tmodel.add(Dense(neuron, input_shape = X.shape[1:], activation = 'relu'))\n",
        "\n",
        "\t\t\tfor l in range(dense_layer - 1):\n",
        "\t\t\t\tmodel.add(Dense(neuron, activation = 'relu'))\n",
        "\n",
        "\t\t\tmodel.add(Dense(2, activation = 'softmax'))\n",
        "\n",
        "\t\t\tmodel.compile(optimizer='adam',\n",
        "\t\t\t              loss='sparse_categorical_crossentropy',\n",
        "\t\t\t              metrics=['accuracy'])\n",
        "\n",
        "\n",
        "\t\t\tmodel.fit(X, y, epochs=8, batch_size = 32, validation_split=0.1, callbacks = [tensorboard])\n",
        "\n",
        "\t\t\tmodel.save('3x3x64-catvsdog.model')"
      ],
      "metadata": {
        "id": "3SGhsw2m0Ubf"
      },
      "execution_count": null,
      "outputs": []
    },
    {
      "cell_type": "code",
      "source": [],
      "metadata": {
        "id": "OXJ0eAUL0Udv"
      },
      "execution_count": null,
      "outputs": []
    },
    {
      "cell_type": "code",
      "source": [],
      "metadata": {
        "id": "ZtLRLX6A0Bqo"
      },
      "execution_count": null,
      "outputs": []
    }
  ]
}