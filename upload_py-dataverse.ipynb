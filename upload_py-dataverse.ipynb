{
 "cells": [
  {
   "cell_type": "code",
   "execution_count": 1,
   "id": "4f3ac24d",
   "metadata": {},
   "outputs": [],
   "source": [
    "API_TOKEN = '76b274ab-4eaf-4403-8bb6-ad3929ae3c90'"
   ]
  },
  {
   "cell_type": "code",
   "execution_count": 2,
   "id": "ad0d65b3",
   "metadata": {},
   "outputs": [],
   "source": [
    "DATAVERSE = 'http://172.26.120.197:8080/dataverse/keen_demo'"
   ]
  },
  {
   "cell_type": "code",
   "execution_count": 3,
   "id": "f541340e",
   "metadata": {},
   "outputs": [],
   "source": [
    "DOI = 'doi:10.5072/FK2/OMI6DW'"
   ]
  },
  {
   "cell_type": "code",
   "execution_count": 7,
   "id": "e282f435",
   "metadata": {},
   "outputs": [
    {
     "name": "stdout",
     "output_type": "stream",
     "text": [
      "Sucessful connection to Dataverse account!!\n"
     ]
    }
   ],
   "source": [
    "from pyDataverse.api import NativeApi\n",
    "BASE_URL = DATAVERSE.split('/dataverse/')[0]\n",
    "DATAVERSE_ID = DATAVERSE.split('/dataverse/')[1]\n",
    "\n",
    "api = NativeApi(BASE_URL, API_TOKEN)\n",
    "\n",
    "resp = api.get_info_version()\n",
    "if resp.json()['status'] == 'OK':\n",
    "    print('Sucessful connection to Dataverse account!!')\n"
   ]
  },
  {
   "cell_type": "code",
   "execution_count": 8,
   "id": "b06f2ba9",
   "metadata": {},
   "outputs": [
    {
     "data": {
      "text/plain": [
       "{'pid': 'doi:10.5072/FK2/OMI6DW', 'filename': 'test.txt'}"
      ]
     },
     "execution_count": 8,
     "metadata": {},
     "output_type": "execute_result"
    }
   ],
   "source": [
    "from pyDataverse.models import Datafile\n",
    "df = Datafile()\n",
    "df_filename = \"test.txt\"\n",
    "df.set({\"pid\": DOI, \"filename\": df_filename})\n",
    "df.get()"
   ]
  },
  {
   "cell_type": "code",
   "execution_count": 10,
   "id": "28e40f16",
   "metadata": {},
   "outputs": [],
   "source": [
    "resp = api.upload_datafile(DOI, df_filename, df.json())"
   ]
  },
  {
   "cell_type": "markdown",
   "id": "42d0778b",
   "metadata": {},
   "source": [
    "# Download and save a dataset to disk\n"
   ]
  },
  {
   "cell_type": "code",
   "execution_count": null,
   "id": "6909b375",
   "metadata": {},
   "outputs": [],
   "source": [
    "from pyDataverse.api import NativeApi, DataAccessApi\n",
    "from pyDataverse.models import Dataverse\n",
    "base_url = BASE_URL\n",
    "api = NativeApi(base_url)\n",
    "data_api = DataAccessApi(base_url)"
   ]
  },
  {
   "cell_type": "code",
   "execution_count": null,
   "id": "58de8b5a",
   "metadata": {},
   "outputs": [],
   "source": [
    "DOI = 'doi:10.5072/FK2/6PYGSZ'\n",
    "dataset = api.get_dataset(DOI)"
   ]
  },
  {
   "cell_type": "code",
   "execution_count": 11,
   "id": "c7af2f58",
   "metadata": {},
   "outputs": [
    {
     "ename": "NameError",
     "evalue": "name 'dataset' is not defined",
     "output_type": "error",
     "traceback": [
      "\u001b[1;31m---------------------------------------------------------------------------\u001b[0m",
      "\u001b[1;31mNameError\u001b[0m                                 Traceback (most recent call last)",
      "Input \u001b[1;32mIn [11]\u001b[0m, in \u001b[0;36m<cell line: 1>\u001b[1;34m()\u001b[0m\n\u001b[1;32m----> 1\u001b[0m files_list \u001b[38;5;241m=\u001b[39m \u001b[43mdataset\u001b[49m\u001b[38;5;241m.\u001b[39mjson()[\u001b[38;5;124m'\u001b[39m\u001b[38;5;124mdata\u001b[39m\u001b[38;5;124m'\u001b[39m][\u001b[38;5;124m'\u001b[39m\u001b[38;5;124mlatestVersion\u001b[39m\u001b[38;5;124m'\u001b[39m][\u001b[38;5;124m'\u001b[39m\u001b[38;5;124mfiles\u001b[39m\u001b[38;5;124m'\u001b[39m]\n\u001b[0;32m      3\u001b[0m \u001b[38;5;28;01mfor\u001b[39;00m file \u001b[38;5;129;01min\u001b[39;00m files_list:\n\u001b[0;32m      4\u001b[0m     filename \u001b[38;5;241m=\u001b[39m file[\u001b[38;5;124m\"\u001b[39m\u001b[38;5;124mdataFile\u001b[39m\u001b[38;5;124m\"\u001b[39m][\u001b[38;5;124m\"\u001b[39m\u001b[38;5;124mfilename\u001b[39m\u001b[38;5;124m\"\u001b[39m]\n",
      "\u001b[1;31mNameError\u001b[0m: name 'dataset' is not defined"
     ]
    }
   ],
   "source": [
    "files_list = dataset.json()['data']['latestVersion']['files']\n",
    "\n",
    "for file in files_list:\n",
    "    filename = file[\"dataFile\"][\"filename\"]\n",
    "    file_id = file[\"dataFile\"][\"id\"]\n",
    "    print(\"File name {}, id {}\".format(filename, file_id))\n",
    "\n",
    "    response = data_api.get_datafile(file_id)\n",
    "    with open(filename, \"wb\") as f:\n",
    "        f.write(response.content)"
   ]
  },
  {
   "cell_type": "code",
   "execution_count": null,
   "id": "7e6f82e0",
   "metadata": {},
   "outputs": [],
   "source": []
  },
  {
   "cell_type": "code",
   "execution_count": null,
   "id": "ee6319e1",
   "metadata": {},
   "outputs": [],
   "source": []
  }
 ],
 "metadata": {
  "kernelspec": {
   "display_name": "Python 3 (ipykernel)",
   "language": "python",
   "name": "python3"
  },
  "language_info": {
   "codemirror_mode": {
    "name": "ipython",
    "version": 3
   },
   "file_extension": ".py",
   "mimetype": "text/x-python",
   "name": "python",
   "nbconvert_exporter": "python",
   "pygments_lexer": "ipython3",
   "version": "3.9.12"
  }
 },
 "nbformat": 4,
 "nbformat_minor": 5
}
