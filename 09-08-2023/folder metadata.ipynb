{
 "cells": [
  {
   "cell_type": "code",
   "execution_count": 19,
   "id": "75098a6a",
   "metadata": {},
   "outputs": [],
   "source": [
    "import json\n",
    "import os\n",
    "import piexif\n",
    "import piexif.helper"
   ]
  },
  {
   "cell_type": "code",
   "execution_count": 20,
   "id": "dab4212a",
   "metadata": {},
   "outputs": [],
   "source": [
    "image_dir = \"C:/Users/rajas/OneDrive/Desktop/ScaDS/ML/Training_Data/Unlableled_data/Red images1\""
   ]
  },
  {
   "cell_type": "code",
   "execution_count": 21,
   "id": "e4821602",
   "metadata": {},
   "outputs": [],
   "source": [
    "json_file = \"metadata.json\""
   ]
  },
  {
   "cell_type": "code",
   "execution_count": 22,
   "id": "f59646a6",
   "metadata": {},
   "outputs": [],
   "source": [
    "data = {}"
   ]
  },
  {
   "cell_type": "markdown",
   "id": "771ec053",
   "metadata": {},
   "source": [
    "# Adding the metadata to the .json file"
   ]
  },
  {
   "cell_type": "code",
   "execution_count": 23,
   "id": "a5be8f93",
   "metadata": {},
   "outputs": [
    {
     "name": "stdout",
     "output_type": "stream",
     "text": [
      "JSON file 'metadata.json' has been generated successfully.\n"
     ]
    }
   ],
   "source": [
    "for filename in os.listdir(image_dir):\n",
    "    if filename.endswith('.jpg') or filename.endswith('.png'):\n",
    "        image_path = os.path.join(image_dir, filename)\n",
    "        \n",
    "        name_parts = filename.split('_')\n",
    "        time_parts = filename.split('-')\n",
    "        datetime_part = name_parts[-1].replace('.jpg', '')\n",
    "\n",
    "        # Split the date and time part using hyphens\n",
    "        date = datetime_part.split('-')\n",
    "        \n",
    "        metadata = {'colour': name_parts[0], 'level': name_parts[1], 'position': name_parts[2], 'date': date[0] + '-' + date[1] + '-' + date[2], 'Time': date[3] + ':' + date[4] + ':' + date[5]}\n",
    "        data[filename] = metadata\n",
    "\n",
    "with open(json_file, 'w') as file:\n",
    "    json.dump(data, file, indent=4)\n",
    "\n",
    "print(f\"JSON file '{json_file}' has been generated successfully.\")"
   ]
  },
  {
   "cell_type": "code",
   "execution_count": 24,
   "id": "b776a0a9",
   "metadata": {},
   "outputs": [],
   "source": [
    "metadata_file = \"metadata.json\""
   ]
  },
  {
   "cell_type": "markdown",
   "id": "bb6b69e4",
   "metadata": {},
   "source": [
    "# Writing the metadata.json to the image description"
   ]
  },
  {
   "cell_type": "code",
   "execution_count": 25,
   "id": "8826e8bf",
   "metadata": {},
   "outputs": [
    {
     "name": "stdout",
     "output_type": "stream",
     "text": [
      "UserComments updated for all images.\n"
     ]
    }
   ],
   "source": [
    "with open(metadata_file, \"r\") as json_file:\n",
    "    metadata = json.load(json_file)\n",
    "\n",
    "for filename, data in metadata.items():\n",
    "    image_path = os.path.join(image_dir, filename)\n",
    "\n",
    "    exif_dict = piexif.load(image_path)\n",
    "\n",
    "    user_comment = json.dumps(data, indent=4)  \n",
    "\n",
    "    exif_dict[\"Exif\"][piexif.ExifIFD.UserComment] = piexif.helper.UserComment.dump(\n",
    "        user_comment,\n",
    "        encoding=\"unicode\"\n",
    "    )\n",
    "\n",
    "    exif_bytes = piexif.dump(exif_dict)\n",
    "    piexif.insert(exif_bytes, image_path)\n",
    "\n",
    "print(\"UserComments updated for all images.\")"
   ]
  },
  {
   "cell_type": "markdown",
   "id": "58f0447a",
   "metadata": {},
   "source": [
    "# Getting the raw EXIF data"
   ]
  },
  {
   "cell_type": "code",
   "execution_count": 26,
   "id": "281b0d77",
   "metadata": {},
   "outputs": [
    {
     "name": "stdout",
     "output_type": "stream",
     "text": [
      "EXIF data for Red_high_pos0image_2023-04-24-17-30-04.jpg: {34665: 287, 40091: b'C\\x00o\\x00l\\x00o\\x00r\\x00:\\x00 \\x00R\\x00e\\x00d\\x00,\\x00 \\x00L\\x00e\\x00v\\x00e\\x00l\\x00:\\x00 \\x00h\\x00i\\x00g\\x00h\\x00,\\x00 \\x00P\\x00o\\x00s\\x00i\\x00t\\x00i\\x00o\\x00n\\x00:\\x00 \\x00p\\x00o\\x00s\\x000\\x00i\\x00m\\x00a\\x00g\\x00e\\x00,\\x00 \\x00D\\x00a\\x00t\\x00e\\x00:\\x00 \\x002\\x000\\x002\\x003\\x00-\\x000\\x004\\x00-\\x002\\x004\\x00,\\x00 \\x00T\\x00i\\x00m\\x00e\\x00:\\x00 \\x001\\x007\\x00:\\x003\\x000\\x00:\\x000\\x004\\x00\\x00\\x00', 270: 'Color: Red, Level: high, Position: pos0image, Date: 2023-04-24, Time: 17:30:04', 37510: b'UNICODE\\x00\\x00{\\x00\\n\\x00 \\x00 \\x00 \\x00 \\x00\"\\x00c\\x00o\\x00l\\x00o\\x00u\\x00r\\x00\"\\x00:\\x00 \\x00\"\\x00R\\x00e\\x00d\\x00\"\\x00,\\x00\\n\\x00 \\x00 \\x00 \\x00 \\x00\"\\x00l\\x00e\\x00v\\x00e\\x00l\\x00\"\\x00:\\x00 \\x00\"\\x00h\\x00i\\x00g\\x00h\\x00\"\\x00,\\x00\\n\\x00 \\x00 \\x00 \\x00 \\x00\"\\x00p\\x00o\\x00s\\x00i\\x00t\\x00i\\x00o\\x00n\\x00\"\\x00:\\x00 \\x00\"\\x00p\\x00o\\x00s\\x000\\x00i\\x00m\\x00a\\x00g\\x00e\\x00\"\\x00,\\x00\\n\\x00 \\x00 \\x00 \\x00 \\x00\"\\x00d\\x00a\\x00t\\x00e\\x00\"\\x00:\\x00 \\x00\"\\x002\\x000\\x002\\x003\\x00-\\x000\\x004\\x00-\\x002\\x004\\x00\"\\x00,\\x00\\n\\x00 \\x00 \\x00 \\x00 \\x00\"\\x00T\\x00i\\x00m\\x00e\\x00\"\\x00:\\x00 \\x00\"\\x001\\x007\\x00:\\x003\\x000\\x00:\\x000\\x004\\x00\"\\x00\\n\\x00}'}\n",
      "EXIF data for Red_high_pos0image_2023-04-24-17-31-06.jpg: {34665: 287, 40091: b'C\\x00o\\x00l\\x00o\\x00r\\x00:\\x00 \\x00R\\x00e\\x00d\\x00,\\x00 \\x00L\\x00e\\x00v\\x00e\\x00l\\x00:\\x00 \\x00h\\x00i\\x00g\\x00h\\x00,\\x00 \\x00P\\x00o\\x00s\\x00i\\x00t\\x00i\\x00o\\x00n\\x00:\\x00 \\x00p\\x00o\\x00s\\x000\\x00i\\x00m\\x00a\\x00g\\x00e\\x00,\\x00 \\x00D\\x00a\\x00t\\x00e\\x00:\\x00 \\x002\\x000\\x002\\x003\\x00-\\x000\\x004\\x00-\\x002\\x004\\x00,\\x00 \\x00T\\x00i\\x00m\\x00e\\x00:\\x00 \\x001\\x007\\x00:\\x003\\x001\\x00:\\x000\\x006\\x00\\x00\\x00', 270: 'Color: Red, Level: high, Position: pos0image, Date: 2023-04-24, Time: 17:31:06', 37510: b'UNICODE\\x00\\x00{\\x00\\n\\x00 \\x00 \\x00 \\x00 \\x00\"\\x00c\\x00o\\x00l\\x00o\\x00u\\x00r\\x00\"\\x00:\\x00 \\x00\"\\x00R\\x00e\\x00d\\x00\"\\x00,\\x00\\n\\x00 \\x00 \\x00 \\x00 \\x00\"\\x00l\\x00e\\x00v\\x00e\\x00l\\x00\"\\x00:\\x00 \\x00\"\\x00h\\x00i\\x00g\\x00h\\x00\"\\x00,\\x00\\n\\x00 \\x00 \\x00 \\x00 \\x00\"\\x00p\\x00o\\x00s\\x00i\\x00t\\x00i\\x00o\\x00n\\x00\"\\x00:\\x00 \\x00\"\\x00p\\x00o\\x00s\\x000\\x00i\\x00m\\x00a\\x00g\\x00e\\x00\"\\x00,\\x00\\n\\x00 \\x00 \\x00 \\x00 \\x00\"\\x00d\\x00a\\x00t\\x00e\\x00\"\\x00:\\x00 \\x00\"\\x002\\x000\\x002\\x003\\x00-\\x000\\x004\\x00-\\x002\\x004\\x00\"\\x00,\\x00\\n\\x00 \\x00 \\x00 \\x00 \\x00\"\\x00T\\x00i\\x00m\\x00e\\x00\"\\x00:\\x00 \\x00\"\\x001\\x007\\x00:\\x003\\x001\\x00:\\x000\\x006\\x00\"\\x00\\n\\x00}'}\n",
      "EXIF data for Red_high_pos0image_2023-04-24-17-31-50.jpg: {34665: 287, 40091: b'C\\x00o\\x00l\\x00o\\x00r\\x00:\\x00 \\x00R\\x00e\\x00d\\x00,\\x00 \\x00L\\x00e\\x00v\\x00e\\x00l\\x00:\\x00 \\x00h\\x00i\\x00g\\x00h\\x00,\\x00 \\x00P\\x00o\\x00s\\x00i\\x00t\\x00i\\x00o\\x00n\\x00:\\x00 \\x00p\\x00o\\x00s\\x000\\x00i\\x00m\\x00a\\x00g\\x00e\\x00,\\x00 \\x00D\\x00a\\x00t\\x00e\\x00:\\x00 \\x002\\x000\\x002\\x003\\x00-\\x000\\x004\\x00-\\x002\\x004\\x00,\\x00 \\x00T\\x00i\\x00m\\x00e\\x00:\\x00 \\x001\\x007\\x00:\\x003\\x001\\x00:\\x005\\x000\\x00\\x00\\x00', 270: 'Color: Red, Level: high, Position: pos0image, Date: 2023-04-24, Time: 17:31:50', 37510: b'UNICODE\\x00\\x00{\\x00\\n\\x00 \\x00 \\x00 \\x00 \\x00\"\\x00c\\x00o\\x00l\\x00o\\x00u\\x00r\\x00\"\\x00:\\x00 \\x00\"\\x00R\\x00e\\x00d\\x00\"\\x00,\\x00\\n\\x00 \\x00 \\x00 \\x00 \\x00\"\\x00l\\x00e\\x00v\\x00e\\x00l\\x00\"\\x00:\\x00 \\x00\"\\x00h\\x00i\\x00g\\x00h\\x00\"\\x00,\\x00\\n\\x00 \\x00 \\x00 \\x00 \\x00\"\\x00p\\x00o\\x00s\\x00i\\x00t\\x00i\\x00o\\x00n\\x00\"\\x00:\\x00 \\x00\"\\x00p\\x00o\\x00s\\x000\\x00i\\x00m\\x00a\\x00g\\x00e\\x00\"\\x00,\\x00\\n\\x00 \\x00 \\x00 \\x00 \\x00\"\\x00d\\x00a\\x00t\\x00e\\x00\"\\x00:\\x00 \\x00\"\\x002\\x000\\x002\\x003\\x00-\\x000\\x004\\x00-\\x002\\x004\\x00\"\\x00,\\x00\\n\\x00 \\x00 \\x00 \\x00 \\x00\"\\x00T\\x00i\\x00m\\x00e\\x00\"\\x00:\\x00 \\x00\"\\x001\\x007\\x00:\\x003\\x001\\x00:\\x005\\x000\\x00\"\\x00\\n\\x00}'}\n",
      "Raw EXIF data retrieval complete.\n"
     ]
    }
   ],
   "source": [
    "from PIL import Image\n",
    "\n",
    "def get_raw_exif_data(image_path):\n",
    "    try:\n",
    "        img = Image.open(image_path)\n",
    "        exif_data = img._getexif()  # Get raw EXIF data\n",
    "        return exif_data\n",
    "    except Exception as e:\n",
    "        print(f\"Error processing {image_path}: {e}\")\n",
    "        return None\n",
    "\n",
    "image_dir = \"C:/Users/rajas/OneDrive/Desktop/ScaDS/ML/Training_Data/Unlableled_data/Red images1\"\n",
    "\n",
    "for filename in os.listdir(image_dir):\n",
    "    if filename.lower().endswith((\".jpg\", \".jpeg\", \".png\")):\n",
    "        image_path = os.path.join(image_dir, filename)\n",
    "        \n",
    "        exif_data = get_raw_exif_data(image_path)\n",
    "\n",
    "        if exif_data:\n",
    "            print(f\"EXIF data for {filename}: {exif_data}\")\n",
    "        else:\n",
    "            print(f\"No EXIF data found for {filename}\")\n",
    "\n",
    "print(\"Raw EXIF data retrieval complete.\")\n"
   ]
  },
  {
   "cell_type": "markdown",
   "id": "ff070754",
   "metadata": {},
   "source": [
    "# Getting the decoded EXIF data"
   ]
  },
  {
   "cell_type": "code",
   "execution_count": 27,
   "id": "eccbe004",
   "metadata": {},
   "outputs": [
    {
     "name": "stdout",
     "output_type": "stream",
     "text": [
      "Human-readable EXIF data for Red_high_pos0image_2023-04-24-17-30-04.jpg:\n",
      "ExifOffset: 287\n",
      "XPTitle: C\u0000o\u0000l\u0000o\u0000r\u0000:\u0000 \u0000R\u0000e\u0000d\u0000,\u0000 \u0000L\u0000e\u0000v\u0000e\u0000l\u0000:\u0000 \u0000h\u0000i\u0000g\u0000h\u0000,\u0000 \u0000P\u0000o\u0000s\u0000i\u0000t\u0000i\u0000o\u0000n\u0000:\u0000 \u0000p\u0000o\u0000s\u00000\u0000i\u0000m\u0000a\u0000g\u0000e\u0000,\u0000 \u0000D\u0000a\u0000t\u0000e\u0000:\u0000 \u00002\u00000\u00002\u00003\u0000-\u00000\u00004\u0000-\u00002\u00004\u0000,\u0000 \u0000T\u0000i\u0000m\u0000e\u0000:\u0000 \u00001\u00007\u0000:\u00003\u00000\u0000:\u00000\u00004\u0000\u0000\u0000\n",
      "ImageDescription: Color: Red, Level: high, Position: pos0image, Date: 2023-04-24, Time: 17:30:04\n",
      "UserComment: UNICODE\u0000\u0000{\u0000\n",
      "\u0000 \u0000 \u0000 \u0000 \u0000\"\u0000c\u0000o\u0000l\u0000o\u0000u\u0000r\u0000\"\u0000:\u0000 \u0000\"\u0000R\u0000e\u0000d\u0000\"\u0000,\u0000\n",
      "\u0000 \u0000 \u0000 \u0000 \u0000\"\u0000l\u0000e\u0000v\u0000e\u0000l\u0000\"\u0000:\u0000 \u0000\"\u0000h\u0000i\u0000g\u0000h\u0000\"\u0000,\u0000\n",
      "\u0000 \u0000 \u0000 \u0000 \u0000\"\u0000p\u0000o\u0000s\u0000i\u0000t\u0000i\u0000o\u0000n\u0000\"\u0000:\u0000 \u0000\"\u0000p\u0000o\u0000s\u00000\u0000i\u0000m\u0000a\u0000g\u0000e\u0000\"\u0000,\u0000\n",
      "\u0000 \u0000 \u0000 \u0000 \u0000\"\u0000d\u0000a\u0000t\u0000e\u0000\"\u0000:\u0000 \u0000\"\u00002\u00000\u00002\u00003\u0000-\u00000\u00004\u0000-\u00002\u00004\u0000\"\u0000,\u0000\n",
      "\u0000 \u0000 \u0000 \u0000 \u0000\"\u0000T\u0000i\u0000m\u0000e\u0000\"\u0000:\u0000 \u0000\"\u00001\u00007\u0000:\u00003\u00000\u0000:\u00000\u00004\u0000\"\u0000\n",
      "\u0000}\n",
      "Human-readable EXIF data for Red_high_pos0image_2023-04-24-17-31-06.jpg:\n",
      "ExifOffset: 287\n",
      "XPTitle: C\u0000o\u0000l\u0000o\u0000r\u0000:\u0000 \u0000R\u0000e\u0000d\u0000,\u0000 \u0000L\u0000e\u0000v\u0000e\u0000l\u0000:\u0000 \u0000h\u0000i\u0000g\u0000h\u0000,\u0000 \u0000P\u0000o\u0000s\u0000i\u0000t\u0000i\u0000o\u0000n\u0000:\u0000 \u0000p\u0000o\u0000s\u00000\u0000i\u0000m\u0000a\u0000g\u0000e\u0000,\u0000 \u0000D\u0000a\u0000t\u0000e\u0000:\u0000 \u00002\u00000\u00002\u00003\u0000-\u00000\u00004\u0000-\u00002\u00004\u0000,\u0000 \u0000T\u0000i\u0000m\u0000e\u0000:\u0000 \u00001\u00007\u0000:\u00003\u00001\u0000:\u00000\u00006\u0000\u0000\u0000\n",
      "ImageDescription: Color: Red, Level: high, Position: pos0image, Date: 2023-04-24, Time: 17:31:06\n",
      "UserComment: UNICODE\u0000\u0000{\u0000\n",
      "\u0000 \u0000 \u0000 \u0000 \u0000\"\u0000c\u0000o\u0000l\u0000o\u0000u\u0000r\u0000\"\u0000:\u0000 \u0000\"\u0000R\u0000e\u0000d\u0000\"\u0000,\u0000\n",
      "\u0000 \u0000 \u0000 \u0000 \u0000\"\u0000l\u0000e\u0000v\u0000e\u0000l\u0000\"\u0000:\u0000 \u0000\"\u0000h\u0000i\u0000g\u0000h\u0000\"\u0000,\u0000\n",
      "\u0000 \u0000 \u0000 \u0000 \u0000\"\u0000p\u0000o\u0000s\u0000i\u0000t\u0000i\u0000o\u0000n\u0000\"\u0000:\u0000 \u0000\"\u0000p\u0000o\u0000s\u00000\u0000i\u0000m\u0000a\u0000g\u0000e\u0000\"\u0000,\u0000\n",
      "\u0000 \u0000 \u0000 \u0000 \u0000\"\u0000d\u0000a\u0000t\u0000e\u0000\"\u0000:\u0000 \u0000\"\u00002\u00000\u00002\u00003\u0000-\u00000\u00004\u0000-\u00002\u00004\u0000\"\u0000,\u0000\n",
      "\u0000 \u0000 \u0000 \u0000 \u0000\"\u0000T\u0000i\u0000m\u0000e\u0000\"\u0000:\u0000 \u0000\"\u00001\u00007\u0000:\u00003\u00001\u0000:\u00000\u00006\u0000\"\u0000\n",
      "\u0000}\n",
      "Human-readable EXIF data for Red_high_pos0image_2023-04-24-17-31-50.jpg:\n",
      "ExifOffset: 287\n",
      "XPTitle: C\u0000o\u0000l\u0000o\u0000r\u0000:\u0000 \u0000R\u0000e\u0000d\u0000,\u0000 \u0000L\u0000e\u0000v\u0000e\u0000l\u0000:\u0000 \u0000h\u0000i\u0000g\u0000h\u0000,\u0000 \u0000P\u0000o\u0000s\u0000i\u0000t\u0000i\u0000o\u0000n\u0000:\u0000 \u0000p\u0000o\u0000s\u00000\u0000i\u0000m\u0000a\u0000g\u0000e\u0000,\u0000 \u0000D\u0000a\u0000t\u0000e\u0000:\u0000 \u00002\u00000\u00002\u00003\u0000-\u00000\u00004\u0000-\u00002\u00004\u0000,\u0000 \u0000T\u0000i\u0000m\u0000e\u0000:\u0000 \u00001\u00007\u0000:\u00003\u00001\u0000:\u00005\u00000\u0000\u0000\u0000\n",
      "ImageDescription: Color: Red, Level: high, Position: pos0image, Date: 2023-04-24, Time: 17:31:50\n",
      "UserComment: UNICODE\u0000\u0000{\u0000\n",
      "\u0000 \u0000 \u0000 \u0000 \u0000\"\u0000c\u0000o\u0000l\u0000o\u0000u\u0000r\u0000\"\u0000:\u0000 \u0000\"\u0000R\u0000e\u0000d\u0000\"\u0000,\u0000\n",
      "\u0000 \u0000 \u0000 \u0000 \u0000\"\u0000l\u0000e\u0000v\u0000e\u0000l\u0000\"\u0000:\u0000 \u0000\"\u0000h\u0000i\u0000g\u0000h\u0000\"\u0000,\u0000\n",
      "\u0000 \u0000 \u0000 \u0000 \u0000\"\u0000p\u0000o\u0000s\u0000i\u0000t\u0000i\u0000o\u0000n\u0000\"\u0000:\u0000 \u0000\"\u0000p\u0000o\u0000s\u00000\u0000i\u0000m\u0000a\u0000g\u0000e\u0000\"\u0000,\u0000\n",
      "\u0000 \u0000 \u0000 \u0000 \u0000\"\u0000d\u0000a\u0000t\u0000e\u0000\"\u0000:\u0000 \u0000\"\u00002\u00000\u00002\u00003\u0000-\u00000\u00004\u0000-\u00002\u00004\u0000\"\u0000,\u0000\n",
      "\u0000 \u0000 \u0000 \u0000 \u0000\"\u0000T\u0000i\u0000m\u0000e\u0000\"\u0000:\u0000 \u0000\"\u00001\u00007\u0000:\u00003\u00001\u0000:\u00005\u00000\u0000\"\u0000\n",
      "\u0000}\n",
      "Human-readable EXIF data retrieval complete.\n"
     ]
    }
   ],
   "source": [
    "from PIL import Image, ExifTags\n",
    "\n",
    "def get_human_readable_exif(exif_data):\n",
    "    decoded_exif = {}\n",
    "    for tag, value in exif_data.items():\n",
    "        tag_name = ExifTags.TAGS.get(tag, tag)\n",
    "        decoded_value = value\n",
    "        if isinstance(value, bytes):\n",
    "            try:\n",
    "                decoded_value = value.decode(\"utf-8\")\n",
    "            except UnicodeDecodeError:\n",
    "                decoded_value = \"Unable to decode\"\n",
    "        decoded_exif[tag_name] = decoded_value\n",
    "    return decoded_exif\n",
    "\n",
    "image_dir = \"C:/Users/rajas/OneDrive/Desktop/ScaDS/ML/Training_Data/Unlableled_data/Red images1\"\n",
    "\n",
    "for filename in os.listdir(image_dir):\n",
    "    if filename.lower().endswith((\".jpg\", \".jpeg\", \".png\")):\n",
    "        image_path = os.path.join(image_dir, filename)\n",
    "        \n",
    "        try:\n",
    "            img = Image.open(image_path)\n",
    "            exif_data = img._getexif()\n",
    "\n",
    "            if exif_data:\n",
    "                human_readable_exif = get_human_readable_exif(exif_data)\n",
    "                print(f\"Human-readable EXIF data for {filename}:\")\n",
    "                for tag, value in human_readable_exif.items():\n",
    "                    print(f\"{tag}: {value}\")\n",
    "            else:\n",
    "                print(f\"No EXIF data found for {filename}\")\n",
    "        except Exception as e:\n",
    "            print(f\"Error processing {filename}: {e}\")\n",
    "\n",
    "print(\"Human-readable EXIF data retrieval complete.\")\n"
   ]
  },
  {
   "cell_type": "code",
   "execution_count": null,
   "id": "49e33567",
   "metadata": {},
   "outputs": [],
   "source": []
  }
 ],
 "metadata": {
  "kernelspec": {
   "display_name": "Python 3 (ipykernel)",
   "language": "python",
   "name": "python3"
  },
  "language_info": {
   "codemirror_mode": {
    "name": "ipython",
    "version": 3
   },
   "file_extension": ".py",
   "mimetype": "text/x-python",
   "name": "python",
   "nbconvert_exporter": "python",
   "pygments_lexer": "ipython3",
   "version": "3.9.13"
  }
 },
 "nbformat": 4,
 "nbformat_minor": 5
}
