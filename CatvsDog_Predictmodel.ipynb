{
  "nbformat": 4,
  "nbformat_minor": 0,
  "metadata": {
    "colab": {
      "provenance": []
    },
    "kernelspec": {
      "name": "python3",
      "display_name": "Python 3"
    },
    "language_info": {
      "name": "python"
    }
  },
  "cells": [
    {
      "cell_type": "code",
      "execution_count": null,
      "metadata": {
        "id": "QHqgkJUn0sd_"
      },
      "outputs": [],
      "source": [
        "import cv2\n",
        "import keras"
      ]
    },
    {
      "cell_type": "code",
      "source": [
        "import numpy as np\n",
        "CATEGORIES = ['Cat', 'Dog']"
      ],
      "metadata": {
        "id": "ale7zCkF0tfp"
      },
      "execution_count": null,
      "outputs": []
    },
    {
      "cell_type": "code",
      "source": [
        "def image(path):\n",
        "    img = cv2.imread(path, cv2.IMREAD_GRAYSCALE)\n",
        "    new_arr = cv2.resize(img, (60, 60))\n",
        "    new_arr = np.array(new_arr)\n",
        "    new_arr = new_arr.reshape(-1, 60, 60, 1)\n",
        "    return new_arr"
      ],
      "metadata": {
        "id": "pNK7hCMU0tla"
      },
      "execution_count": null,
      "outputs": []
    },
    {
      "cell_type": "code",
      "source": [
        "model = keras.models.load_model('3x3x64-catvsdog.model')"
      ],
      "metadata": {
        "id": "4yrsJhDY0tui"
      },
      "execution_count": null,
      "outputs": []
    },
    {
      "cell_type": "code",
      "source": [
        "prediction = model.predict([image('test_of_model/puppy.jpg')])\n",
        "print(CATEGORIES[prediction.argmax()])"
      ],
      "metadata": {
        "id": "4RbWMu7x02e7"
      },
      "execution_count": null,
      "outputs": []
    },
    {
      "cell_type": "code",
      "source": [],
      "metadata": {
        "id": "jy8W3m2mFrc1"
      },
      "execution_count": null,
      "outputs": []
    }
  ]
}