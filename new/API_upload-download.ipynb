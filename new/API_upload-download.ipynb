{
 "cells": [
  {
   "cell_type": "markdown",
   "id": "fd735bab",
   "metadata": {},
   "source": [
    "# Connect to Native API"
   ]
  },
  {
   "cell_type": "code",
   "execution_count": 2,
   "id": "39ecf7cf",
   "metadata": {},
   "outputs": [],
   "source": [
    "API_TOKEN = '76b274ab-4eaf-4403-8bb6-ad3929ae3c90'\n",
    "DATAVERSE = 'http://172.26.120.197:8080/dataverse/keen_demo'\n",
    "DOI = 'doi:10.5072/FK2/VXNBHI'"
   ]
  },
  {
   "cell_type": "code",
   "execution_count": null,
   "id": "d64df08d",
   "metadata": {},
   "outputs": [],
   "source": [
    "from pyDataverse.api import NativeApi\n",
    "BASE_URL = DATAVERSE.split('/dataverse/')[0]\n",
    "id = DATAVERSE.split('/dataverse/')[1]\n",
    "\n",
    "api = NativeApi(BASE_URL, API_TOKEN)\n",
    "\n",
    "resp = api.get_info_version()\n",
    "if resp.json()['status'] == 'OK':\n",
    "    print('Sucessful connection to Dataverse account!!')"
   ]
  },
  {
   "cell_type": "markdown",
   "id": "0e5ccaf3",
   "metadata": {},
   "source": [
    "# Upload a dataset to disk\n"
   ]
  },
  {
   "cell_type": "code",
   "execution_count": null,
   "id": "e87e141b",
   "metadata": {},
   "outputs": [],
   "source": [
    "from pyDataverse.models import Datafile\n",
    "df = Datafile()\n",
    "df_filename = \"test.txt\"\n",
    "df.set({\"pid\": DOI, \"filename\": df_filename})\n",
    "df.get()"
   ]
  }
 ],
 "metadata": {
  "kernelspec": {
   "display_name": "Python 3 (ipykernel)",
   "language": "python",
   "name": "python3"
  },
  "language_info": {
   "codemirror_mode": {
    "name": "ipython",
    "version": 3
   },
   "file_extension": ".py",
   "mimetype": "text/x-python",
   "name": "python",
   "nbconvert_exporter": "python",
   "pygments_lexer": "ipython3",
   "version": "3.9.12"
  }
 },
 "nbformat": 4,
 "nbformat_minor": 5
}
