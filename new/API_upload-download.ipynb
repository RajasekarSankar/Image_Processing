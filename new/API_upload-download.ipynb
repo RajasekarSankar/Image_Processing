{
 "cells": [
  {
   "cell_type": "markdown",
   "id": "53bc7533",
   "metadata": {},
   "source": [
    "# Connect to Native API"
   ]
  },
  {
   "cell_type": "code",
   "execution_count": 13,
   "id": "2593c30d",
   "metadata": {},
   "outputs": [],
   "source": [
    "API_TOKEN = '76b274ab-4eaf-4403-8bb6-ad3929ae3c90'\n",
    "DATAVERSE = 'http://172.26.120.197:8080/dataverse/keen_demo'\n",
    "DOI = 'doi:10.5072/FK2/OTJISO'"
   ]
  },
  {
   "cell_type": "code",
   "execution_count": 14,
   "id": "a04da205",
   "metadata": {},
   "outputs": [
    {
     "name": "stdout",
     "output_type": "stream",
     "text": [
      "Sucessful connection to Dataverse account!!\n"
     ]
    }
   ],
   "source": [
    "from pyDataverse.api import NativeApi\n",
    "BASE_URL = DATAVERSE.split('/dataverse/')[0]\n",
    "id = DATAVERSE.split('/dataverse/')[1]\n",
    "\n",
    "api = NativeApi(BASE_URL, API_TOKEN)\n",
    "\n",
    "resp = api.get_info_version()\n",
    "if resp.json()['status'] == 'OK':\n",
    "    print('Sucessful connection to Dataverse account!!')"
   ]
  },
  {
   "cell_type": "markdown",
   "id": "68141961",
   "metadata": {},
   "source": [
    "# Upload a dataset to disk\n"
   ]
  },
  {
   "cell_type": "code",
   "execution_count": 15,
   "id": "6e7274fa",
   "metadata": {},
   "outputs": [
    {
     "data": {
      "text/plain": [
       "{'pid': 'doi:10.5072/FK2/OTJISO', 'filename': {'test.txt'}}"
      ]
     },
     "execution_count": 15,
     "metadata": {},
     "output_type": "execute_result"
    }
   ],
   "source": [
    "from pyDataverse.models import Datafile\n",
    "df = Datafile()\n",
    "df_filename = {\"test.txt\"}\n",
    "df.set({\"pid\": DOI, \"filename\": df_filename})\n",
    "df.get()"
   ]
  },
  {
   "cell_type": "code",
   "execution_count": 16,
   "id": "5b79a31f",
   "metadata": {},
   "outputs": [
    {
     "ename": "ValidationError",
     "evalue": "{'test.txt'} is not of type 'string'\n\nFailed validating 'type' in schema['properties']['filename']:\n    {'$id': '#/properties/filename', 'type': 'string'}\n\nOn instance['filename']:\n    {'test.txt'}",
     "output_type": "error",
     "traceback": [
      "\u001b[1;31m---------------------------------------------------------------------------\u001b[0m",
      "\u001b[1;31mValidationError\u001b[0m                           Traceback (most recent call last)",
      "Input \u001b[1;32mIn [16]\u001b[0m, in \u001b[0;36m<cell line: 1>\u001b[1;34m()\u001b[0m\n\u001b[1;32m----> 1\u001b[0m resp \u001b[38;5;241m=\u001b[39m api\u001b[38;5;241m.\u001b[39mupload_datafile(DOI, df_filename, \u001b[43mdf\u001b[49m\u001b[38;5;241;43m.\u001b[39;49m\u001b[43mjson\u001b[49m\u001b[43m(\u001b[49m\u001b[43m)\u001b[49m)\n",
      "File \u001b[1;32m~\\anaconda3\\lib\\site-packages\\pyDataverse\\models.py:222\u001b[0m, in \u001b[0;36mDVObject.json\u001b[1;34m(self, data_format, validate, filename_schema)\u001b[0m\n\u001b[0;32m    220\u001b[0m     \u001b[38;5;28;01mreturn\u001b[39;00m \u001b[38;5;28;01mFalse\u001b[39;00m\n\u001b[0;32m    221\u001b[0m \u001b[38;5;28;01mif\u001b[39;00m validate:\n\u001b[1;32m--> 222\u001b[0m     \u001b[43mvalidate_data\u001b[49m\u001b[43m(\u001b[49m\u001b[43mdata\u001b[49m\u001b[43m,\u001b[49m\u001b[43m \u001b[49m\u001b[43mfilename_schema\u001b[49m\u001b[43m)\u001b[49m\n\u001b[0;32m    224\u001b[0m json_str \u001b[38;5;241m=\u001b[39m json\u001b[38;5;241m.\u001b[39mdumps(data, indent\u001b[38;5;241m=\u001b[39m\u001b[38;5;241m2\u001b[39m)\n\u001b[0;32m    225\u001b[0m \u001b[38;5;28;01massert\u001b[39;00m \u001b[38;5;28misinstance\u001b[39m(json_str, \u001b[38;5;28mstr\u001b[39m)\n",
      "File \u001b[1;32m~\\anaconda3\\lib\\site-packages\\pyDataverse\\utils.py:451\u001b[0m, in \u001b[0;36mvalidate_data\u001b[1;34m(data, filename_schema, file_format)\u001b[0m\n\u001b[0;32m    448\u001b[0m \u001b[38;5;28;01massert\u001b[39;00m \u001b[38;5;28misinstance\u001b[39m(file_format, \u001b[38;5;28mstr\u001b[39m)\n\u001b[0;32m    450\u001b[0m \u001b[38;5;28;01mif\u001b[39;00m file_format \u001b[38;5;241m==\u001b[39m \u001b[38;5;124m\"\u001b[39m\u001b[38;5;124mjson\u001b[39m\u001b[38;5;124m\"\u001b[39m:\n\u001b[1;32m--> 451\u001b[0m     \u001b[43mvalidate\u001b[49m\u001b[43m(\u001b[49m\u001b[43minstance\u001b[49m\u001b[38;5;241;43m=\u001b[39;49m\u001b[43mdata\u001b[49m\u001b[43m,\u001b[49m\u001b[43m \u001b[49m\u001b[43mschema\u001b[49m\u001b[38;5;241;43m=\u001b[39;49m\u001b[43mread_json\u001b[49m\u001b[43m(\u001b[49m\u001b[43mfilename_schema\u001b[49m\u001b[43m)\u001b[49m\u001b[43m)\u001b[49m\n\u001b[0;32m    452\u001b[0m     \u001b[38;5;28;01mreturn\u001b[39;00m \u001b[38;5;28;01mTrue\u001b[39;00m\n\u001b[0;32m    453\u001b[0m \u001b[38;5;28;01melif\u001b[39;00m file_format \u001b[38;5;241m==\u001b[39m \u001b[38;5;124m\"\u001b[39m\u001b[38;5;124mxml\u001b[39m\u001b[38;5;124m\"\u001b[39m:\n",
      "File \u001b[1;32m~\\anaconda3\\lib\\site-packages\\jsonschema\\validators.py:1022\u001b[0m, in \u001b[0;36mvalidate\u001b[1;34m(instance, schema, cls, *args, **kwargs)\u001b[0m\n\u001b[0;32m   1020\u001b[0m error \u001b[38;5;241m=\u001b[39m exceptions\u001b[38;5;241m.\u001b[39mbest_match(validator\u001b[38;5;241m.\u001b[39miter_errors(instance))\n\u001b[0;32m   1021\u001b[0m \u001b[38;5;28;01mif\u001b[39;00m error \u001b[38;5;129;01mis\u001b[39;00m \u001b[38;5;129;01mnot\u001b[39;00m \u001b[38;5;28;01mNone\u001b[39;00m:\n\u001b[1;32m-> 1022\u001b[0m     \u001b[38;5;28;01mraise\u001b[39;00m error\n",
      "\u001b[1;31mValidationError\u001b[0m: {'test.txt'} is not of type 'string'\n\nFailed validating 'type' in schema['properties']['filename']:\n    {'$id': '#/properties/filename', 'type': 'string'}\n\nOn instance['filename']:\n    {'test.txt'}"
     ]
    }
   ],
   "source": [
    "resp = api.upload_datafile(DOI, df_filename, df.json())"
   ]
  },
  {
   "cell_type": "code",
   "execution_count": null,
   "id": "dfc532a9",
   "metadata": {},
   "outputs": [],
   "source": []
  }
 ],
 "metadata": {
  "kernelspec": {
   "display_name": "Python 3 (ipykernel)",
   "language": "python",
   "name": "python3"
  },
  "language_info": {
   "codemirror_mode": {
    "name": "ipython",
    "version": 3
   },
   "file_extension": ".py",
   "mimetype": "text/x-python",
   "name": "python",
   "nbconvert_exporter": "python",
   "pygments_lexer": "ipython3",
   "version": "3.9.12"
  }
 },
 "nbformat": 4,
 "nbformat_minor": 5
}
