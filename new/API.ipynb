{
 "cells": [
  {
   "cell_type": "code",
   "execution_count": 24,
   "id": "a8af9e66",
   "metadata": {},
   "outputs": [],
   "source": [
    "import os\n",
    "from pyDataverse.utils import read_csv_as_dicts\n",
    "csv_datasets_filename = \"datasets.csv\"\n",
    "ds_data = read_csv_as_dicts(csv_datasets_filename)\n",
    "csv_datafiles_filename = \"datafiles.csv\"\n",
    "df_data = read_csv_as_dicts(csv_datafiles_filename)"
   ]
  },
  {
   "cell_type": "code",
   "execution_count": 25,
   "id": "bae1e6ae",
   "metadata": {},
   "outputs": [],
   "source": [
    "from pyDataverse.models import Dataset\n",
    "ds_lst = []\n",
    "for ds in ds_data:\n",
    "    ds_obj = Dataset()\n",
    "    ds_obj.set(ds)\n",
    "    ds_lst.append(ds_obj)"
   ]
  },
  {
   "cell_type": "code",
   "execution_count": 26,
   "id": "a8b6e8e1",
   "metadata": {},
   "outputs": [],
   "source": [
    "from pyDataverse.models import Datafile\n",
    "df_lst = []\n",
    "for df in df_data:\n",
    "    df_obj = Datafile()\n",
    "    df_obj.set(df)\n",
    "    df_lst.append(df_obj)"
   ]
  },
  {
   "cell_type": "code",
   "execution_count": 27,
   "id": "51c18ebc",
   "metadata": {},
   "outputs": [
    {
     "data": {
      "text/plain": [
       "[<pyDataverse.models.Datafile at 0x2545323f340>]"
      ]
     },
     "execution_count": 27,
     "metadata": {},
     "output_type": "execute_result"
    }
   ],
   "source": [
    "df_lst"
   ]
  },
  {
   "cell_type": "code",
   "execution_count": 4,
   "id": "45667bca",
   "metadata": {},
   "outputs": [],
   "source": [
    "DATAVERSE = 'http://172.26.120.197:8080/dataverse/keen_demo'\n",
    "BASE_URL = DATAVERSE.split('/dataverse/')[0]\n",
    "API_TOKEN = '76b274ab-4eaf-4403-8bb6-ad3929ae3c90'"
   ]
  },
  {
   "cell_type": "code",
   "execution_count": 5,
   "id": "ac42dcde",
   "metadata": {},
   "outputs": [],
   "source": [
    "from pyDataverse.api import NativeApi\n",
    "api = NativeApi(BASE_URL, API_TOKEN)"
   ]
  },
  {
   "cell_type": "markdown",
   "id": "ee154218",
   "metadata": {},
   "source": [
    "# Create Dataverse Collection¶\n"
   ]
  },
  {
   "cell_type": "code",
   "execution_count": 14,
   "id": "56efad97",
   "metadata": {},
   "outputs": [],
   "source": [
    "from pyDataverse.models import Dataverse\n",
    "from pyDataverse.utils import read_file\n",
    "dv = Dataverse()\n",
    "dv_filename = \"dataverse.json\"\n",
    "dv.from_json(read_file(dv_filename))"
   ]
  },
  {
   "cell_type": "code",
   "execution_count": 15,
   "id": "627eac8f",
   "metadata": {},
   "outputs": [
    {
     "data": {
      "text/plain": [
       "{'alias': 'pyD',\n",
       " 'name': 'KEEN_Demonstrator',\n",
       " 'dataverseContacts': [{'contactEmail': 'rajasekar.sankar@tu-dresden.de'}],\n",
       " 'affiliation': 'TU Dresden',\n",
       " 'description': 'Image processing using KEEN demonstrator',\n",
       " 'dataverseType': 'RESEARCH_GROUP'}"
      ]
     },
     "execution_count": 15,
     "metadata": {},
     "output_type": "execute_result"
    }
   ],
   "source": [
    "dv.get()"
   ]
  },
  {
   "cell_type": "code",
   "execution_count": 16,
   "id": "b2efe63c",
   "metadata": {},
   "outputs": [
    {
     "data": {
      "text/plain": [
       "'{\\n  \"affiliation\": \"TU Dresden\",\\n  \"alias\": \"pyD\",\\n  \"dataverseContacts\": [\\n    {\\n      \"contactEmail\": \"rajasekar.sankar@tu-dresden.de\"\\n    }\\n  ],\\n  \"dataverseType\": \"RESEARCH_GROUP\",\\n  \"description\": \"Image processing using KEEN demonstrator\",\\n  \"name\": \"KEEN_Demonstrator\"\\n}'"
      ]
     },
     "execution_count": 16,
     "metadata": {},
     "output_type": "execute_result"
    }
   ],
   "source": [
    "dv.json()"
   ]
  },
  {
   "cell_type": "code",
   "execution_count": 17,
   "id": "3ae03569",
   "metadata": {},
   "outputs": [
    {
     "name": "stdout",
     "output_type": "stream",
     "text": [
      "Dataverse pyD created.\n"
     ]
    }
   ],
   "source": [
    "resp = api.create_dataverse(\":root\", dv.json())"
   ]
  },
  {
   "cell_type": "code",
   "execution_count": 19,
   "id": "1e2223ad",
   "metadata": {},
   "outputs": [
    {
     "name": "stdout",
     "output_type": "stream",
     "text": [
      "Dataverse pyD published.\n"
     ]
    }
   ],
   "source": [
    "resp = api.publish_dataverse(\"pyD\")"
   ]
  },
  {
   "cell_type": "code",
   "execution_count": 20,
   "id": "1a73c059",
   "metadata": {},
   "outputs": [],
   "source": [
    "resp = api.get_dataverse(\"pyD\")"
   ]
  },
  {
   "cell_type": "code",
   "execution_count": 21,
   "id": "8db0c51e",
   "metadata": {},
   "outputs": [
    {
     "data": {
      "text/plain": [
       "{'status': 'OK',\n",
       " 'data': {'id': 124,\n",
       "  'alias': 'pyD',\n",
       "  'name': 'KEEN_Demonstrator',\n",
       "  'affiliation': 'TU Dresden',\n",
       "  'dataverseContacts': [{'displayOrder': 0,\n",
       "    'contactEmail': 'rajasekar.sankar@tu-dresden.de'}],\n",
       "  'permissionRoot': True,\n",
       "  'description': 'Image processing using KEEN demonstrator',\n",
       "  'dataverseType': 'RESEARCH_GROUP',\n",
       "  'ownerId': 1,\n",
       "  'creationDate': '2023-03-17T09:38:28Z'}}"
      ]
     },
     "execution_count": 21,
     "metadata": {},
     "output_type": "execute_result"
    }
   ],
   "source": [
    "resp.json()"
   ]
  },
  {
   "cell_type": "code",
   "execution_count": 22,
   "id": "4515b1c9",
   "metadata": {},
   "outputs": [
    {
     "ename": "DataverseNotFoundError",
     "evalue": "ERROR: HTTP 404 - Dataverse dv_alias was not found. MSG: Can't find dataverse with identifier='dv_alias'",
     "output_type": "error",
     "traceback": [
      "\u001b[1;31m---------------------------------------------------------------------------\u001b[0m",
      "\u001b[1;31mDataverseNotFoundError\u001b[0m                    Traceback (most recent call last)",
      "Input \u001b[1;32mIn [22]\u001b[0m, in \u001b[0;36m<cell line: 2>\u001b[1;34m()\u001b[0m\n\u001b[0;32m      1\u001b[0m dv_alias \u001b[38;5;241m=\u001b[39m \u001b[38;5;124m\"\u001b[39m\u001b[38;5;124m:pyD:\u001b[39m\u001b[38;5;124m\"\u001b[39m\n\u001b[1;32m----> 2\u001b[0m \u001b[43mapi\u001b[49m\u001b[38;5;241;43m.\u001b[39;49m\u001b[43mpublish_dataverse\u001b[49m\u001b[43m(\u001b[49m\u001b[38;5;124;43m\"\u001b[39;49m\u001b[38;5;124;43mdv_alias\u001b[39;49m\u001b[38;5;124;43m\"\u001b[39;49m\u001b[43m)\u001b[49m\n\u001b[0;32m      3\u001b[0m dataset_id_2_pid \u001b[38;5;241m=\u001b[39m {}\n\u001b[0;32m      4\u001b[0m \u001b[38;5;28;01mfor\u001b[39;00m ds \u001b[38;5;129;01min\u001b[39;00m ds_lst:\n",
      "File \u001b[1;32m~\\anaconda3\\lib\\site-packages\\pyDataverse\\api.py:776\u001b[0m, in \u001b[0;36mNativeApi.publish_dataverse\u001b[1;34m(self, identifier, auth)\u001b[0m\n\u001b[0;32m    774\u001b[0m \u001b[38;5;28;01melif\u001b[39;00m resp\u001b[38;5;241m.\u001b[39mstatus_code \u001b[38;5;241m==\u001b[39m \u001b[38;5;241m404\u001b[39m:\n\u001b[0;32m    775\u001b[0m     error_msg \u001b[38;5;241m=\u001b[39m resp\u001b[38;5;241m.\u001b[39mjson()[\u001b[38;5;124m\"\u001b[39m\u001b[38;5;124mmessage\u001b[39m\u001b[38;5;124m\"\u001b[39m]\n\u001b[1;32m--> 776\u001b[0m     \u001b[38;5;28;01mraise\u001b[39;00m DataverseNotFoundError(\n\u001b[0;32m    777\u001b[0m         \u001b[38;5;124m\"\u001b[39m\u001b[38;5;124mERROR: HTTP 404 - Dataverse \u001b[39m\u001b[38;5;132;01m{0}\u001b[39;00m\u001b[38;5;124m was not found. MSG: \u001b[39m\u001b[38;5;132;01m{1}\u001b[39;00m\u001b[38;5;124m\"\u001b[39m\u001b[38;5;241m.\u001b[39mformat(\n\u001b[0;32m    778\u001b[0m             identifier, error_msg\n\u001b[0;32m    779\u001b[0m         )\n\u001b[0;32m    780\u001b[0m     )\n\u001b[0;32m    781\u001b[0m \u001b[38;5;28;01melif\u001b[39;00m resp\u001b[38;5;241m.\u001b[39mstatus_code \u001b[38;5;241m!=\u001b[39m \u001b[38;5;241m200\u001b[39m:\n\u001b[0;32m    782\u001b[0m     error_msg \u001b[38;5;241m=\u001b[39m resp\u001b[38;5;241m.\u001b[39mjson()[\u001b[38;5;124m\"\u001b[39m\u001b[38;5;124mmessage\u001b[39m\u001b[38;5;124m\"\u001b[39m]\n",
      "\u001b[1;31mDataverseNotFoundError\u001b[0m: ERROR: HTTP 404 - Dataverse dv_alias was not found. MSG: Can't find dataverse with identifier='dv_alias'"
     ]
    }
   ],
   "source": [
    "dv_alias = \":pyD:\"\n",
    "api.publish_dataverse(\"dv_alias\")\n",
    "dataset_id_2_pid = {}\n",
    "for ds in ds_lst:\n",
    "    resp = api.create_dataset(dv_alias, ds.json())\n",
    "    dataset_id_2_pid[ds.get()[\"org.dataset_id\"]] = resp.json()[\"data\"][\"persistentId\"]"
   ]
  },
  {
   "cell_type": "code",
   "execution_count": null,
   "id": "3cc42cfc",
   "metadata": {},
   "outputs": [],
   "source": []
  }
 ],
 "metadata": {
  "kernelspec": {
   "display_name": "Python 3 (ipykernel)",
   "language": "python",
   "name": "python3"
  },
  "language_info": {
   "codemirror_mode": {
    "name": "ipython",
    "version": 3
   },
   "file_extension": ".py",
   "mimetype": "text/x-python",
   "name": "python",
   "nbconvert_exporter": "python",
   "pygments_lexer": "ipython3",
   "version": "3.9.12"
  }
 },
 "nbformat": 4,
 "nbformat_minor": 5
}
