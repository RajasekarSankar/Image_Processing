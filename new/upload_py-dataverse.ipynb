{
 "cells": [
  {
   "cell_type": "code",
   "execution_count": 2,
   "id": "4f3ac24d",
   "metadata": {},
   "outputs": [],
   "source": [
    "API_TOKEN = '76b274ab-4eaf-4403-8bb6-ad3929ae3c90'"
   ]
  },
  {
   "cell_type": "code",
   "execution_count": 3,
   "id": "ad0d65b3",
   "metadata": {},
   "outputs": [],
   "source": [
    "DATAVERSE = 'http://172.26.120.197:8080/dataverse/keen_demo'"
   ]
  },
  {
   "cell_type": "code",
   "execution_count": 39,
   "id": "f541340e",
   "metadata": {},
   "outputs": [],
   "source": [
    "DOI = 'doi:10.5072/FK2/VXNBHI'"
   ]
  },
  {
   "cell_type": "code",
   "execution_count": 40,
   "id": "e282f435",
   "metadata": {
    "scrolled": true
   },
   "outputs": [
    {
     "name": "stdout",
     "output_type": "stream",
     "text": [
      "Sucessful connection to Dataverse account!!\n"
     ]
    }
   ],
   "source": [
    "from pyDataverse.api import NativeApi\n",
    "BASE_URL = DATAVERSE.split('/dataverse/')[0]\n",
    "id = DATAVERSE.split('/dataverse/')[1]\n",
    "\n",
    "api = NativeApi(BASE_URL, API_TOKEN)\n",
    "\n",
    "resp = api.get_info_version()\n",
    "if resp.json()['status'] == 'OK':\n",
    "    print('Sucessful connection to Dataverse account!!')\n"
   ]
  },
  {
   "cell_type": "markdown",
   "id": "8351c235",
   "metadata": {},
   "source": [
    "# Upload a dataset to disk"
   ]
  },
  {
   "cell_type": "code",
   "execution_count": 41,
   "id": "b06f2ba9",
   "metadata": {},
   "outputs": [
    {
     "data": {
      "text/plain": [
       "{'pid': 'doi:10.5072/FK2/VXNBHI', 'filename': 'test.txt'}"
      ]
     },
     "execution_count": 41,
     "metadata": {},
     "output_type": "execute_result"
    }
   ],
   "source": [
    "from pyDataverse.models import Datafile\n",
    "df = Datafile()\n",
    "df_filename = \"test.txt\"\n",
    "df.set({\"pid\": DOI, \"filename\": df_filename})\n",
    "df.get()"
   ]
  },
  {
   "cell_type": "code",
   "execution_count": 42,
   "id": "28e40f16",
   "metadata": {},
   "outputs": [],
   "source": [
    "resp = api.upload_datafile(DOI, df_filename, df.json())"
   ]
  },
  {
   "cell_type": "markdown",
   "id": "42d0778b",
   "metadata": {},
   "source": [
    "# Download and save a dataset to disk\n"
   ]
  },
  {
   "cell_type": "code",
   "execution_count": 56,
   "id": "6909b375",
   "metadata": {},
   "outputs": [],
   "source": [
    "from pyDataverse.api import NativeApi, DataAccessApi\n",
    "from pyDataverse.models import Dataverse\n",
    "base_url = BASE_URL\n",
    "api = NativeApi(base_url, API_TOKEN)\n",
    "data_api = DataAccessApi(base_url)"
   ]
  },
  {
   "cell_type": "code",
   "execution_count": 57,
   "id": "58de8b5a",
   "metadata": {},
   "outputs": [],
   "source": [
    "DOI = 'doi:10.5072/FK2/OMI6DW'\n",
    "dataset = api.get_dataset(DOI)"
   ]
  },
  {
   "cell_type": "code",
   "execution_count": 65,
   "id": "3ff5164b",
   "metadata": {},
   "outputs": [
    {
     "name": "stdout",
     "output_type": "stream",
     "text": [
      "File name test-1.txt, id 92\n",
      "File name test.txt, id 90\n"
     ]
    }
   ],
   "source": [
    "files_list = dataset.json()['data']['latestVersion']['files']\n",
    "\n",
    "for file in files_list:\n",
    "    filename = file[\"dataFile\"][\"filename\"]\n",
    "    file_id = file[\"dataFile\"][\"id\"]\n",
    "    print(\"File name {}, id {}\".format(filename, file_id))"
   ]
  },
  {
   "cell_type": "code",
   "execution_count": 67,
   "id": "496a5516",
   "metadata": {},
   "outputs": [
    {
     "name": "stdout",
     "output_type": "stream",
     "text": [
      "Error downloading file: 'Api' object has no attribute 'get_datafile'\n"
     ]
    }
   ],
   "source": [
    "import requests\n",
    "from pyDataverse.api import Api\n",
    "\n",
    "# Set up the API connection\n",
    "api_url = BASE_URL\n",
    "api_token = '76b274ab-4eaf-4403-8bb6-ad3929ae3c90'\n",
    "api = Api(api_url, api_token)\n",
    "\n",
    "# Set the dataset ID and file ID for the file you want to download\n",
    "dataset_id = 'doi:10.5072/FK2/OMI6DW'\n",
    "file_id = 'id 92'\n",
    "\n",
    "# Download the file\n",
    "try:\n",
    "    response = api.get_datafile(dataset_id, file_id)\n",
    "    file_name = response.headers['Content-Disposition'].split('=')[1]\n",
    "    with open(file_name, 'wb') as f:\n",
    "        f.write(response.content)\n",
    "    print(f'Successfully downloaded file: {file_name}')\n",
    "except Exception as e:\n",
    "    print(f'Error downloading file: {e}')\n"
   ]
  },
  {
   "cell_type": "code",
   "execution_count": null,
   "id": "78d83519",
   "metadata": {},
   "outputs": [],
   "source": []
  },
  {
   "cell_type": "code",
   "execution_count": null,
   "id": "47fccd15",
   "metadata": {},
   "outputs": [],
   "source": []
  },
  {
   "cell_type": "code",
   "execution_count": 58,
   "id": "c7af2f58",
   "metadata": {
    "scrolled": true
   },
   "outputs": [
    {
     "name": "stdout",
     "output_type": "stream",
     "text": [
      "File name test-1.txt, id 92\n"
     ]
    },
    {
     "ename": "OperationFailedError",
     "evalue": "ERROR: GET HTTP 403 - http://172.26.120.197:8080/api/access/datafile/92. MSG: {\"status\":\"ERROR\",\"code\":403,\"message\":\"Not authorized to access this object via this API endpoint. Please check your code for typos, or consult our API guide at http://guides.dataverse.org.\",\"requestUrl\":\"http://172.26.120.197:8080/api/v1/access/datafile/92?User-Agent=pydataverse\",\"requestMethod\":\"GET\"}",
     "output_type": "error",
     "traceback": [
      "\u001b[1;31m---------------------------------------------------------------------------\u001b[0m",
      "\u001b[1;31mOperationFailedError\u001b[0m                      Traceback (most recent call last)",
      "Input \u001b[1;32mIn [58]\u001b[0m, in \u001b[0;36m<cell line: 3>\u001b[1;34m()\u001b[0m\n\u001b[0;32m      5\u001b[0m file_id \u001b[38;5;241m=\u001b[39m file[\u001b[38;5;124m\"\u001b[39m\u001b[38;5;124mdataFile\u001b[39m\u001b[38;5;124m\"\u001b[39m][\u001b[38;5;124m\"\u001b[39m\u001b[38;5;124mid\u001b[39m\u001b[38;5;124m\"\u001b[39m]\n\u001b[0;32m      6\u001b[0m \u001b[38;5;28mprint\u001b[39m(\u001b[38;5;124m\"\u001b[39m\u001b[38;5;124mFile name \u001b[39m\u001b[38;5;132;01m{}\u001b[39;00m\u001b[38;5;124m, id \u001b[39m\u001b[38;5;132;01m{}\u001b[39;00m\u001b[38;5;124m\"\u001b[39m\u001b[38;5;241m.\u001b[39mformat(filename, file_id))\n\u001b[1;32m----> 8\u001b[0m response \u001b[38;5;241m=\u001b[39m \u001b[43mdata_api\u001b[49m\u001b[38;5;241;43m.\u001b[39;49m\u001b[43mget_datafile\u001b[49m\u001b[43m(\u001b[49m\u001b[43mfile_id\u001b[49m\u001b[43m)\u001b[49m\n\u001b[0;32m      9\u001b[0m \u001b[38;5;28;01mwith\u001b[39;00m \u001b[38;5;28mopen\u001b[39m(filename, \u001b[38;5;124m\"\u001b[39m\u001b[38;5;124mwb\u001b[39m\u001b[38;5;124m\"\u001b[39m) \u001b[38;5;28;01mas\u001b[39;00m f:\n\u001b[0;32m     10\u001b[0m     f\u001b[38;5;241m.\u001b[39mwrite(response\u001b[38;5;241m.\u001b[39mcontent)\n",
      "File \u001b[1;32m~\\anaconda3\\lib\\site-packages\\pyDataverse\\api.py:356\u001b[0m, in \u001b[0;36mDataAccessApi.get_datafile\u001b[1;34m(self, identifier, data_format, no_var_header, image_thumb, is_pid, auth)\u001b[0m\n\u001b[0;32m    354\u001b[0m         url \u001b[38;5;241m+\u001b[39m\u001b[38;5;241m=\u001b[39m \u001b[38;5;124m\"\u001b[39m\u001b[38;5;124m&\u001b[39m\u001b[38;5;124m\"\u001b[39m\n\u001b[0;32m    355\u001b[0m     url \u001b[38;5;241m+\u001b[39m\u001b[38;5;241m=\u001b[39m \u001b[38;5;124m\"\u001b[39m\u001b[38;5;124mimageThumb=\u001b[39m\u001b[38;5;132;01m{0}\u001b[39;00m\u001b[38;5;124m\"\u001b[39m\u001b[38;5;241m.\u001b[39mformat(image_thumb)\n\u001b[1;32m--> 356\u001b[0m \u001b[38;5;28;01mreturn\u001b[39;00m \u001b[38;5;28;43mself\u001b[39;49m\u001b[38;5;241;43m.\u001b[39;49m\u001b[43mget_request\u001b[49m\u001b[43m(\u001b[49m\u001b[43murl\u001b[49m\u001b[43m,\u001b[49m\u001b[43m \u001b[49m\u001b[43mauth\u001b[49m\u001b[38;5;241;43m=\u001b[39;49m\u001b[43mauth\u001b[49m\u001b[43m)\u001b[49m\n",
      "File \u001b[1;32m~\\anaconda3\\lib\\site-packages\\pyDataverse\\api.py:132\u001b[0m, in \u001b[0;36mApi.get_request\u001b[1;34m(self, url, params, auth)\u001b[0m\n\u001b[0;32m    130\u001b[0m         \u001b[38;5;28;01mif\u001b[39;00m resp\u001b[38;5;241m.\u001b[39mtext:\n\u001b[0;32m    131\u001b[0m             error_msg \u001b[38;5;241m=\u001b[39m resp\u001b[38;5;241m.\u001b[39mtext\n\u001b[1;32m--> 132\u001b[0m             \u001b[38;5;28;01mraise\u001b[39;00m OperationFailedError(\n\u001b[0;32m    133\u001b[0m                 \u001b[38;5;124m\"\u001b[39m\u001b[38;5;124mERROR: GET HTTP \u001b[39m\u001b[38;5;132;01m{0}\u001b[39;00m\u001b[38;5;124m - \u001b[39m\u001b[38;5;132;01m{1}\u001b[39;00m\u001b[38;5;124m. MSG: \u001b[39m\u001b[38;5;132;01m{2}\u001b[39;00m\u001b[38;5;124m\"\u001b[39m\u001b[38;5;241m.\u001b[39mformat(\n\u001b[0;32m    134\u001b[0m                     resp\u001b[38;5;241m.\u001b[39mstatus_code, url, error_msg\n\u001b[0;32m    135\u001b[0m                 )\n\u001b[0;32m    136\u001b[0m             )\n\u001b[0;32m    137\u001b[0m     \u001b[38;5;28;01mreturn\u001b[39;00m resp\n\u001b[0;32m    138\u001b[0m \u001b[38;5;28;01mexcept\u001b[39;00m \u001b[38;5;167;01mConnectionError\u001b[39;00m:\n",
      "\u001b[1;31mOperationFailedError\u001b[0m: ERROR: GET HTTP 403 - http://172.26.120.197:8080/api/access/datafile/92. MSG: {\"status\":\"ERROR\",\"code\":403,\"message\":\"Not authorized to access this object via this API endpoint. Please check your code for typos, or consult our API guide at http://guides.dataverse.org.\",\"requestUrl\":\"http://172.26.120.197:8080/api/v1/access/datafile/92?User-Agent=pydataverse\",\"requestMethod\":\"GET\"}"
     ]
    }
   ],
   "source": [
    "files_list = dataset.json()['data']['latestVersion']['files']\n",
    "\n",
    "for file in files_list:\n",
    "    filename = file[\"dataFile\"][\"filename\"]\n",
    "    file_id = file[\"dataFile\"][\"id\"]\n",
    "    print(\"File name {}, id {}\".format(filename, file_id))\n",
    "\n",
    "    response = data_api.get_datafile(file_id)\n",
    "    with open(filename, \"wb\") as f:\n",
    "        f.write(response.content)"
   ]
  },
  {
   "cell_type": "code",
   "execution_count": null,
   "id": "7809c5a4",
   "metadata": {},
   "outputs": [],
   "source": []
  }
 ],
 "metadata": {
  "kernelspec": {
   "display_name": "Python 3 (ipykernel)",
   "language": "python",
   "name": "python3"
  },
  "language_info": {
   "codemirror_mode": {
    "name": "ipython",
    "version": 3
   },
   "file_extension": ".py",
   "mimetype": "text/x-python",
   "name": "python",
   "nbconvert_exporter": "python",
   "pygments_lexer": "ipython3",
   "version": "3.9.12"
  }
 },
 "nbformat": 4,
 "nbformat_minor": 5
}
