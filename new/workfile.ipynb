{
 "cells": [
  {
   "cell_type": "markdown",
   "id": "b624ace1",
   "metadata": {},
   "source": [
    "# Connect to Native API\n",
    "\n"
   ]
  },
  {
   "cell_type": "code",
   "execution_count": 27,
   "id": "f73b17fb",
   "metadata": {},
   "outputs": [],
   "source": [
    "DATAVERSE = 'http://172.26.120.197:8080/dataverse/keen_demo'\n",
    "BASE_URL = DATAVERSE.split('/dataverse/')[0]\n",
    "API_TOKEN = '76b274ab-4eaf-4403-8bb6-ad3929ae3c90'"
   ]
  },
  {
   "cell_type": "code",
   "execution_count": 28,
   "id": "225944e5",
   "metadata": {},
   "outputs": [],
   "source": [
    "from pyDataverse.api import NativeApi\n",
    "api = NativeApi(BASE_URL, API_TOKEN)"
   ]
  },
  {
   "cell_type": "code",
   "execution_count": 29,
   "id": "10492ed3",
   "metadata": {},
   "outputs": [
    {
     "data": {
      "text/plain": [
       "{'status': 'OK', 'data': {'version': '5.11.1', 'build': '1069-02e3e92'}}"
      ]
     },
     "execution_count": 29,
     "metadata": {},
     "output_type": "execute_result"
    }
   ],
   "source": [
    "resp = api.get_info_version()\n",
    "resp.json()"
   ]
  },
  {
   "cell_type": "code",
   "execution_count": 30,
   "id": "8022ad83",
   "metadata": {},
   "outputs": [
    {
     "data": {
      "text/plain": [
       "200"
      ]
     },
     "execution_count": 30,
     "metadata": {},
     "output_type": "execute_result"
    }
   ],
   "source": [
    "resp.status_code"
   ]
  },
  {
   "cell_type": "markdown",
   "id": "2d66a98d",
   "metadata": {},
   "source": [
    "# Create Dataverse Collection¶\n"
   ]
  },
  {
   "cell_type": "code",
   "execution_count": 34,
   "id": "f9ca8429",
   "metadata": {},
   "outputs": [],
   "source": [
    "from pyDataverse.models import Dataverse\n",
    "from pyDataverse.utils import read_file\n",
    "dv = Dataverse()\n",
    "dv_filename = \"dataverse.json\"\n",
    "dv.from_json(read_file(dv_filename))"
   ]
  },
  {
   "cell_type": "code",
   "execution_count": 35,
   "id": "6931000e",
   "metadata": {},
   "outputs": [
    {
     "data": {
      "text/plain": [
       "{'alias': 'pyDataverse_fileupload',\n",
       " 'name': 'KEEN_Demonstrator',\n",
       " 'dataverseContacts': [{'contactEmail': 'rajasekar.sankar@tu-dresden.de'}],\n",
       " 'affiliation': 'TU Dresden',\n",
       " 'description': 'Image processing using KEEN demonstrator',\n",
       " 'dataverseType': 'RESEARCH_GROUP'}"
      ]
     },
     "execution_count": 35,
     "metadata": {},
     "output_type": "execute_result"
    }
   ],
   "source": [
    "dv.get()"
   ]
  },
  {
   "cell_type": "code",
   "execution_count": 36,
   "id": "be6be0cc",
   "metadata": {},
   "outputs": [
    {
     "data": {
      "text/plain": [
       "'{\\n  \"affiliation\": \"TU Dresden\",\\n  \"alias\": \"pyDataverse_fileupload\",\\n  \"dataverseContacts\": [\\n    {\\n      \"contactEmail\": \"rajasekar.sankar@tu-dresden.de\"\\n    }\\n  ],\\n  \"dataverseType\": \"RESEARCH_GROUP\",\\n  \"description\": \"Image processing using KEEN demonstrator\",\\n  \"name\": \"KEEN_Demonstrator\"\\n}'"
      ]
     },
     "execution_count": 36,
     "metadata": {},
     "output_type": "execute_result"
    }
   ],
   "source": [
    "dv.json()"
   ]
  },
  {
   "cell_type": "code",
   "execution_count": 37,
   "id": "60803fb8",
   "metadata": {},
   "outputs": [
    {
     "ename": "OperationFailedError",
     "evalue": "ERROR: HTTP 403 - Dataverse pyDataverse_fileupload could not be created. MSG: A dataverse with alias pyDataverse_fileupload already exists",
     "output_type": "error",
     "traceback": [
      "\u001b[1;31m---------------------------------------------------------------------------\u001b[0m",
      "\u001b[1;31mOperationFailedError\u001b[0m                      Traceback (most recent call last)",
      "Input \u001b[1;32mIn [37]\u001b[0m, in \u001b[0;36m<cell line: 1>\u001b[1;34m()\u001b[0m\n\u001b[1;32m----> 1\u001b[0m resp \u001b[38;5;241m=\u001b[39m \u001b[43mapi\u001b[49m\u001b[38;5;241;43m.\u001b[39;49m\u001b[43mcreate_dataverse\u001b[49m\u001b[43m(\u001b[49m\u001b[38;5;124;43m\"\u001b[39;49m\u001b[38;5;124;43m:root\u001b[39;49m\u001b[38;5;124;43m\"\u001b[39;49m\u001b[43m,\u001b[49m\u001b[43m \u001b[49m\u001b[43mdv\u001b[49m\u001b[38;5;241;43m.\u001b[39;49m\u001b[43mjson\u001b[49m\u001b[43m(\u001b[49m\u001b[43m)\u001b[49m\u001b[43m)\u001b[49m\n",
      "File \u001b[1;32m~\\anaconda3\\lib\\site-packages\\pyDataverse\\api.py:724\u001b[0m, in \u001b[0;36mNativeApi.create_dataverse\u001b[1;34m(self, parent, metadata, auth)\u001b[0m\n\u001b[0;32m    722\u001b[0m \u001b[38;5;28;01melif\u001b[39;00m resp\u001b[38;5;241m.\u001b[39mstatus_code \u001b[38;5;241m!=\u001b[39m \u001b[38;5;241m200\u001b[39m \u001b[38;5;129;01mand\u001b[39;00m resp\u001b[38;5;241m.\u001b[39mstatus_code \u001b[38;5;241m!=\u001b[39m \u001b[38;5;241m201\u001b[39m:\n\u001b[0;32m    723\u001b[0m     error_msg \u001b[38;5;241m=\u001b[39m resp\u001b[38;5;241m.\u001b[39mjson()[\u001b[38;5;124m\"\u001b[39m\u001b[38;5;124mmessage\u001b[39m\u001b[38;5;124m\"\u001b[39m]\n\u001b[1;32m--> 724\u001b[0m     \u001b[38;5;28;01mraise\u001b[39;00m OperationFailedError(\n\u001b[0;32m    725\u001b[0m         \u001b[38;5;124m\"\u001b[39m\u001b[38;5;124mERROR: HTTP \u001b[39m\u001b[38;5;132;01m{0}\u001b[39;00m\u001b[38;5;124m - Dataverse \u001b[39m\u001b[38;5;132;01m{1}\u001b[39;00m\u001b[38;5;124m could not be created. MSG: \u001b[39m\u001b[38;5;132;01m{2}\u001b[39;00m\u001b[38;5;124m\"\u001b[39m\u001b[38;5;241m.\u001b[39mformat(\n\u001b[0;32m    726\u001b[0m             resp\u001b[38;5;241m.\u001b[39mstatus_code, identifier, error_msg\n\u001b[0;32m    727\u001b[0m         )\n\u001b[0;32m    728\u001b[0m     )\n\u001b[0;32m    729\u001b[0m \u001b[38;5;28;01melse\u001b[39;00m:\n\u001b[0;32m    730\u001b[0m     \u001b[38;5;28mprint\u001b[39m(\u001b[38;5;124m\"\u001b[39m\u001b[38;5;124mDataverse \u001b[39m\u001b[38;5;132;01m{0}\u001b[39;00m\u001b[38;5;124m created.\u001b[39m\u001b[38;5;124m\"\u001b[39m\u001b[38;5;241m.\u001b[39mformat(identifier))\n",
      "\u001b[1;31mOperationFailedError\u001b[0m: ERROR: HTTP 403 - Dataverse pyDataverse_fileupload could not be created. MSG: A dataverse with alias pyDataverse_fileupload already exists"
     ]
    }
   ],
   "source": [
    "resp = api.create_dataverse(\":root\", dv.json())"
   ]
  },
  {
   "cell_type": "code",
   "execution_count": 46,
   "id": "1526364c",
   "metadata": {},
   "outputs": [
    {
     "ename": "OperationFailedError",
     "evalue": "ERROR: HTTP 403 - Dataverse pyD could not be published. MSG: Dataverse pyD has already been published.",
     "output_type": "error",
     "traceback": [
      "\u001b[1;31m---------------------------------------------------------------------------\u001b[0m",
      "\u001b[1;31mOperationFailedError\u001b[0m                      Traceback (most recent call last)",
      "Input \u001b[1;32mIn [46]\u001b[0m, in \u001b[0;36m<cell line: 1>\u001b[1;34m()\u001b[0m\n\u001b[1;32m----> 1\u001b[0m resp \u001b[38;5;241m=\u001b[39m \u001b[43mapi\u001b[49m\u001b[38;5;241;43m.\u001b[39;49m\u001b[43mpublish_dataverse\u001b[49m\u001b[43m(\u001b[49m\u001b[38;5;124;43m\"\u001b[39;49m\u001b[38;5;124;43mpyD\u001b[39;49m\u001b[38;5;124;43m\"\u001b[39;49m\u001b[43m)\u001b[49m\n",
      "File \u001b[1;32m~\\anaconda3\\lib\\site-packages\\pyDataverse\\api.py:783\u001b[0m, in \u001b[0;36mNativeApi.publish_dataverse\u001b[1;34m(self, identifier, auth)\u001b[0m\n\u001b[0;32m    781\u001b[0m \u001b[38;5;28;01melif\u001b[39;00m resp\u001b[38;5;241m.\u001b[39mstatus_code \u001b[38;5;241m!=\u001b[39m \u001b[38;5;241m200\u001b[39m:\n\u001b[0;32m    782\u001b[0m     error_msg \u001b[38;5;241m=\u001b[39m resp\u001b[38;5;241m.\u001b[39mjson()[\u001b[38;5;124m\"\u001b[39m\u001b[38;5;124mmessage\u001b[39m\u001b[38;5;124m\"\u001b[39m]\n\u001b[1;32m--> 783\u001b[0m     \u001b[38;5;28;01mraise\u001b[39;00m OperationFailedError(\n\u001b[0;32m    784\u001b[0m         \u001b[38;5;124m\"\u001b[39m\u001b[38;5;124mERROR: HTTP \u001b[39m\u001b[38;5;132;01m{0}\u001b[39;00m\u001b[38;5;124m - Dataverse \u001b[39m\u001b[38;5;132;01m{1}\u001b[39;00m\u001b[38;5;124m could not be published. MSG: \u001b[39m\u001b[38;5;132;01m{2}\u001b[39;00m\u001b[38;5;124m\"\u001b[39m\u001b[38;5;241m.\u001b[39mformat(\n\u001b[0;32m    785\u001b[0m             resp\u001b[38;5;241m.\u001b[39mstatus_code, identifier, error_msg\n\u001b[0;32m    786\u001b[0m         )\n\u001b[0;32m    787\u001b[0m     )\n\u001b[0;32m    788\u001b[0m \u001b[38;5;28;01melif\u001b[39;00m resp\u001b[38;5;241m.\u001b[39mstatus_code \u001b[38;5;241m==\u001b[39m \u001b[38;5;241m200\u001b[39m:\n\u001b[0;32m    789\u001b[0m     \u001b[38;5;28mprint\u001b[39m(\u001b[38;5;124m\"\u001b[39m\u001b[38;5;124mDataverse \u001b[39m\u001b[38;5;132;01m{0}\u001b[39;00m\u001b[38;5;124m published.\u001b[39m\u001b[38;5;124m\"\u001b[39m\u001b[38;5;241m.\u001b[39mformat(identifier))\n",
      "\u001b[1;31mOperationFailedError\u001b[0m: ERROR: HTTP 403 - Dataverse pyD could not be published. MSG: Dataverse pyD has already been published."
     ]
    }
   ],
   "source": [
    "resp = api.publish_dataverse(\"pyD\")"
   ]
  },
  {
   "cell_type": "code",
   "execution_count": 10,
   "id": "bec8bf2e",
   "metadata": {},
   "outputs": [],
   "source": [
    "resp = api.get_dataverse(\"pyD\")"
   ]
  },
  {
   "cell_type": "code",
   "execution_count": 11,
   "id": "32c5ff81",
   "metadata": {},
   "outputs": [
    {
     "data": {
      "text/plain": [
       "{'status': 'OK',\n",
       " 'data': {'id': 93,\n",
       "  'alias': 'pyDataverse_fileupload',\n",
       "  'name': 'KEEN_Demonstrator',\n",
       "  'affiliation': 'TU Dresden',\n",
       "  'dataverseContacts': [{'displayOrder': 0,\n",
       "    'contactEmail': 'rajasekar.sankar@tu-dresden.de'}],\n",
       "  'permissionRoot': True,\n",
       "  'description': 'Image processing using KEEN demonstrator',\n",
       "  'dataverseType': 'RESEARCH_GROUP',\n",
       "  'ownerId': 1,\n",
       "  'creationDate': '2023-03-15T11:11:16Z'}}"
      ]
     },
     "execution_count": 11,
     "metadata": {},
     "output_type": "execute_result"
    }
   ],
   "source": [
    "resp.json()"
   ]
  },
  {
   "cell_type": "markdown",
   "id": "b351dfe2",
   "metadata": {},
   "source": [
    "# Create Dataset"
   ]
  },
  {
   "cell_type": "code",
   "execution_count": 38,
   "id": "74f88e62",
   "metadata": {},
   "outputs": [],
   "source": [
    "from pyDataverse.models import Dataset\n",
    "ds = Dataset()"
   ]
  },
  {
   "cell_type": "code",
   "execution_count": 39,
   "id": "e73b2579",
   "metadata": {},
   "outputs": [],
   "source": [
    "ds_filename = \"dataset.json\"\n",
    "ds.from_json(read_file(ds_filename))"
   ]
  },
  {
   "cell_type": "code",
   "execution_count": 40,
   "id": "19f5b6c3",
   "metadata": {},
   "outputs": [
    {
     "data": {
      "text/plain": [
       "{'citation_displayName': 'Citation Metadata',\n",
       " 'title': 'Youth in Austria 2005',\n",
       " 'author': [{'authorName': 'LastAuthor1, FirstAuthor1',\n",
       "   'authorAffiliation': 'AuthorAffiliation1'}],\n",
       " 'datasetContact': [{'datasetContactEmail': 'ContactEmail1@mailinator.com',\n",
       "   'datasetContactName': 'LastContact1, FirstContact1'}],\n",
       " 'dsDescription': [{'dsDescriptionValue': 'DescriptionText'}],\n",
       " 'subject': ['Medicine, Health and Life Sciences']}"
      ]
     },
     "execution_count": 40,
     "metadata": {},
     "output_type": "execute_result"
    }
   ],
   "source": [
    "ds.get()"
   ]
  },
  {
   "cell_type": "code",
   "execution_count": 41,
   "id": "d6029cac",
   "metadata": {},
   "outputs": [
    {
     "data": {
      "text/plain": [
       "True"
      ]
     },
     "execution_count": 41,
     "metadata": {},
     "output_type": "execute_result"
    }
   ],
   "source": [
    "ds.validate_json()"
   ]
  },
  {
   "cell_type": "code",
   "execution_count": 42,
   "id": "c58bfc91",
   "metadata": {},
   "outputs": [],
   "source": [
    "#Adding or updating data with set()"
   ]
  },
  {
   "cell_type": "code",
   "execution_count": 43,
   "id": "84df26f9",
   "metadata": {},
   "outputs": [
    {
     "data": {
      "text/plain": [
       "'pyDataverse_fileupload'"
      ]
     },
     "execution_count": 43,
     "metadata": {},
     "output_type": "execute_result"
    }
   ],
   "source": [
    "ds.get()[\"title\"]\n",
    "ds.set({\"title\": \"pyDataverse_fileupload\"})\n",
    "ds.get()[\"title\"]"
   ]
  },
  {
   "cell_type": "code",
   "execution_count": 44,
   "id": "4442cef4",
   "metadata": {},
   "outputs": [],
   "source": [
    "#upload the Dataset"
   ]
  },
  {
   "cell_type": "code",
   "execution_count": 45,
   "id": "b12508f0",
   "metadata": {},
   "outputs": [],
   "source": [
    "resp = api.create_dataset(\"pyDataverse_fileupload\", ds.json())"
   ]
  },
  {
   "cell_type": "code",
   "execution_count": 23,
   "id": "d3c5b90c",
   "metadata": {},
   "outputs": [
    {
     "data": {
      "text/plain": [
       "{'status': 'ERROR',\n",
       " 'message': 'Validation Failed: Description Text is required. (Invalid value:edu.harvard.iq.dataverse.DatasetField[ id=null ]), Title is required. (Invalid value:edu.harvard.iq.dataverse.DatasetField[ id=null ]), Subject is required. (Invalid value:edu.harvard.iq.dataverse.DatasetField[ id=null ]), Contact E-mail is required. (Invalid value:edu.harvard.iq.dataverse.DatasetField[ id=null ]), Author Name is required. (Invalid value:edu.harvard.iq.dataverse.DatasetField[ id=null ]).java.util.stream.ReferencePipeline$3@27135722'}"
      ]
     },
     "execution_count": 23,
     "metadata": {},
     "output_type": "execute_result"
    }
   ],
   "source": [
    "resp.json()"
   ]
  },
  {
   "cell_type": "code",
   "execution_count": 95,
   "id": "33073427",
   "metadata": {
    "collapsed": true
   },
   "outputs": [
    {
     "ename": "KeyError",
     "evalue": "'data'",
     "output_type": "error",
     "traceback": [
      "\u001b[1;31m---------------------------------------------------------------------------\u001b[0m",
      "\u001b[1;31mKeyError\u001b[0m                                  Traceback (most recent call last)",
      "Input \u001b[1;32mIn [95]\u001b[0m, in \u001b[0;36m<cell line: 1>\u001b[1;34m()\u001b[0m\n\u001b[1;32m----> 1\u001b[0m ds_pid \u001b[38;5;241m=\u001b[39m \u001b[43mresp\u001b[49m\u001b[38;5;241;43m.\u001b[39;49m\u001b[43mjson\u001b[49m\u001b[43m(\u001b[49m\u001b[43m)\u001b[49m\u001b[43m[\u001b[49m\u001b[38;5;124;43m\"\u001b[39;49m\u001b[38;5;124;43mdata\u001b[39;49m\u001b[38;5;124;43m\"\u001b[39;49m\u001b[43m]\u001b[49m[\u001b[38;5;124m\"\u001b[39m\u001b[38;5;124mpersistentId\u001b[39m\u001b[38;5;124m\"\u001b[39m]\n",
      "\u001b[1;31mKeyError\u001b[0m: 'data'"
     ]
    }
   ],
   "source": [
    "ds_pid = resp.json()[\"data\"][\"persistentId\"]"
   ]
  },
  {
   "cell_type": "code",
   "execution_count": null,
   "id": "3392b0c9",
   "metadata": {},
   "outputs": [],
   "source": [
    "resp = api.create_dataset_private_url(ds_pid)"
   ]
  },
  {
   "cell_type": "code",
   "execution_count": null,
   "id": "26172ef8",
   "metadata": {},
   "outputs": [],
   "source": []
  },
  {
   "cell_type": "code",
   "execution_count": null,
   "id": "d486a8fe",
   "metadata": {},
   "outputs": [],
   "source": []
  }
 ],
 "metadata": {
  "kernelspec": {
   "display_name": "Python 3 (ipykernel)",
   "language": "python",
   "name": "python3"
  },
  "language_info": {
   "codemirror_mode": {
    "name": "ipython",
    "version": 3
   },
   "file_extension": ".py",
   "mimetype": "text/x-python",
   "name": "python",
   "nbconvert_exporter": "python",
   "pygments_lexer": "ipython3",
   "version": "3.9.12"
  }
 },
 "nbformat": 4,
 "nbformat_minor": 5
}
