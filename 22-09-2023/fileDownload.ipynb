{
 "cells": [
  {
   "cell_type": "code",
   "execution_count": 15,
   "id": "8a018bb2",
   "metadata": {},
   "outputs": [],
   "source": [
    "import requests\n",
    "\n",
    "# Replace these values with your Dataverse server URL and API token\n",
    "server_url = \"https://demo.dataverse.org/\"\n",
    "api_token = \"10637cf8-3ffe-439b-a4a7-feb4bd5249aa\"\n",
    "\n",
    "# Replace 'your-dataset-identifier' with the identifier of the dataset you want to search in\n",
    "dataset_identifier = \"doi:10.70122/FK2/WIIV1C\"\n",
    "\n",
    "# Replace 'your-tag' with the specific file tag you're looking for\n",
    "desired_tag = \"Blue\""
   ]
  },
  {
   "cell_type": "code",
   "execution_count": 18,
   "id": "436e73b0",
   "metadata": {},
   "outputs": [
    {
     "name": "stdout",
     "output_type": "stream",
     "text": [
      "<Response [200]>\n"
     ]
    }
   ],
   "source": [
    "# Define the API endpoint to search for files with the desired tag within the dataset\n",
    "search_endpoint = f\"{server_url}/api/search?q=tag:{desired_tag}+AND+datasetPersistentId:{dataset_identifier}\"\n",
    "\n",
    "# Send an HTTP GET request to the search endpoint\n",
    "response = requests.get(search_endpoint, headers={'X-Dataverse-key': api_token})\n",
    "print(response)"
   ]
  },
  {
   "cell_type": "code",
   "execution_count": 22,
   "id": "2d414447",
   "metadata": {},
   "outputs": [
    {
     "name": "stdout",
     "output_type": "stream",
     "text": [
      "Key: status\n",
      "Key: data\n"
     ]
    }
   ],
   "source": [
    "if response.status_code == 200:\n",
    "    # Parse the JSON response into a Python dictionary\n",
    "    data = response.json()\n",
    "\n",
    "    # Get the keys from the dictionary and print them\n",
    "    keys = data.keys()\n",
    "\n",
    "    # Iterate through the keys and print them\n",
    "    for key in keys:\n",
    "        print(\"Key:\", key)"
   ]
  },
  {
   "cell_type": "code",
   "execution_count": 24,
   "id": "46f54660",
   "metadata": {},
   "outputs": [
    {
     "name": "stdout",
     "output_type": "stream",
     "text": [
      "Value of 'key_name' in the JSON response: {'q': 'tag:Blue AND datasetPersistentId:doi:10.70122/FK2/WIIV1C', 'total_count': 0, 'start': 0, 'spelling_alternatives': {}, 'items': [], 'count_in_response': 0}\n"
     ]
    }
   ],
   "source": [
    "if response.status_code == 200:\n",
    "    # Parse the JSON response\n",
    "    data = response.json()\n",
    "\n",
    "    # Access specific data in the JSON response\n",
    "    # For example, if the response contains a key called 'key_name':\n",
    "    key_value = data['data']\n",
    "    \n",
    "    # You can now work with 'key_value' or other data as needed\n",
    "    print(\"Value of 'key_name' in the JSON response:\", key_value)"
   ]
  },
  {
   "cell_type": "code",
   "execution_count": 17,
   "id": "14072599",
   "metadata": {},
   "outputs": [
    {
     "ename": "KeyError",
     "evalue": "'dataItems'",
     "output_type": "error",
     "traceback": [
      "\u001b[1;31m---------------------------------------------------------------------------\u001b[0m",
      "\u001b[1;31mKeyError\u001b[0m                                  Traceback (most recent call last)",
      "\u001b[1;32m~\\AppData\\Local\\Temp\\ipykernel_18372\\4109385033.py\u001b[0m in \u001b[0;36m<module>\u001b[1;34m\u001b[0m\n\u001b[0;32m      3\u001b[0m \u001b[1;33m\u001b[0m\u001b[0m\n\u001b[0;32m      4\u001b[0m     \u001b[1;31m# Iterate through the search results to retrieve file metadata and download the files\u001b[0m\u001b[1;33m\u001b[0m\u001b[1;33m\u001b[0m\u001b[0m\n\u001b[1;32m----> 5\u001b[1;33m     \u001b[1;32mfor\u001b[0m \u001b[0mresult\u001b[0m \u001b[1;32min\u001b[0m \u001b[0msearch_results\u001b[0m\u001b[1;33m[\u001b[0m\u001b[1;34m'dataItems'\u001b[0m\u001b[1;33m]\u001b[0m\u001b[1;33m:\u001b[0m\u001b[1;33m\u001b[0m\u001b[1;33m\u001b[0m\u001b[0m\n\u001b[0m\u001b[0;32m      6\u001b[0m         \u001b[0mfile_id\u001b[0m \u001b[1;33m=\u001b[0m \u001b[0mresult\u001b[0m\u001b[1;33m[\u001b[0m\u001b[1;34m'id'\u001b[0m\u001b[1;33m]\u001b[0m\u001b[1;33m\u001b[0m\u001b[1;33m\u001b[0m\u001b[0m\n\u001b[0;32m      7\u001b[0m         \u001b[0mfile_name\u001b[0m \u001b[1;33m=\u001b[0m \u001b[0mresult\u001b[0m\u001b[1;33m[\u001b[0m\u001b[1;34m'name'\u001b[0m\u001b[1;33m]\u001b[0m\u001b[1;33m\u001b[0m\u001b[1;33m\u001b[0m\u001b[0m\n",
      "\u001b[1;31mKeyError\u001b[0m: 'dataItems'"
     ]
    }
   ],
   "source": [
    "if response.status_code == 200:\n",
    "    search_results = response.json()\n",
    "\n",
    "    # Iterate through the search results to retrieve file metadata and download the files\n",
    "    for result in search_results['dataItems']:\n",
    "        file_id = result['id']\n",
    "        file_name = result['name']\n",
    "        file_download_url = result['downloadURL']\n",
    "\n",
    "        # Download the file using requests\n",
    "        file_response = requests.get(file_download_url, stream=True)\n",
    "        \n",
    "        if file_response.status_code == 200:\n",
    "            # Specify the local directory where you want to save the downloaded files\n",
    "            download_directory = \"C:/Users/rajas/OneDrive/Desktop/ScaDS/Image_read/\"\n",
    "            \n",
    "            with open(download_directory + file_name, 'wb') as f:\n",
    "                for chunk in file_response.iter_content(chunk_size=1024):\n",
    "                    if chunk:\n",
    "                        f.write(chunk)\n",
    "            print(f\"Downloaded {file_name}\")\n",
    "        else:\n",
    "            print(f\"Failed to download {file_name}\")\n",
    "else:\n",
    "    print(f\"Failed to retrieve search results. Status code: {response.status_code}\")\n"
   ]
  },
  {
   "cell_type": "code",
   "execution_count": 29,
   "id": "2d4dd721",
   "metadata": {},
   "outputs": [
    {
     "name": "stdout",
     "output_type": "stream",
     "text": [
      "Failed to retrieve dataset metadata. Status code: 404\n"
     ]
    }
   ],
   "source": [
    "import requests\n",
    "\n",
    "server_url = \"https://demo.dataverse.org/\"\n",
    "api_token = \"43fb3bc9-b826-4073-b461-d208bf45f7e7\"\n",
    "\n",
    "from pyDataverse.api import Api, DataAccessApi\n",
    "api = Api(server_url, api_token)\n",
    "data_api = DataAccessApi(server_url, api_token)\n",
    "\n",
    "dataset_identifier = \"doi:10.70122/FK2/WIIV1C\"\n",
    "\n",
    "desired_metadata = {\n",
    "    \"tag\": \"Blue\",\n",
    "}\n",
    "\n",
    "metadata_endpoint = f\"{server_url}/api/datasets/{dataset_identifier}/metadata\"\n",
    "\n",
    "response = requests.get(metadata_endpoint, headers={'X-Dataverse-key': api_token})\n",
    "\n",
    "if response.status_code == 200:\n",
    "    dataset_metadata = response.json()\n",
    "    \n",
    "    filtered_files = [file for file in dataset_metadata['files'] if all(file['dataFile'][key] == value for key, value in desired_metadata.items())]\n",
    "\n",
    "    for file in filtered_files:\n",
    "        file_id = file['dataFile']['id']\n",
    "        file_name = file['dataFile']['filename']\n",
    "        file_url = f\"{server_url}/api/access/datafile/{file_id}\"\n",
    "\n",
    "        file_response = requests.get(file_url, headers={'X-Dataverse-key': api_token})\n",
    "\n",
    "        if file_response.status_code == 200:\n",
    "            download_directory = \"C:/Users/rajas/OneDrive/Desktop/ScaDS/Image_read/\"\n",
    "\n",
    "            with open(download_directory + file_name, 'wb') as f:\n",
    "                f.write(file_response.content)\n",
    "            print(f\"Downloaded {file_name}\")\n",
    "        else:\n",
    "            print(f\"Failed to download {file_name}\")\n",
    "else:\n",
    "    print(f\"Failed to retrieve dataset metadata. Status code: {response.status_code}\")\n"
   ]
  },
  {
   "cell_type": "code",
   "execution_count": null,
   "id": "68f20c58",
   "metadata": {},
   "outputs": [],
   "source": []
  }
 ],
 "metadata": {
  "kernelspec": {
   "display_name": "Python 3 (ipykernel)",
   "language": "python",
   "name": "python3"
  },
  "language_info": {
   "codemirror_mode": {
    "name": "ipython",
    "version": 3
   },
   "file_extension": ".py",
   "mimetype": "text/x-python",
   "name": "python",
   "nbconvert_exporter": "python",
   "pygments_lexer": "ipython3",
   "version": "3.9.13"
  }
 },
 "nbformat": 4,
 "nbformat_minor": 5
}
